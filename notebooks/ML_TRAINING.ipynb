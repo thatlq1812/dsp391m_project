{
 "cells": [
  {
   "cell_type": "code",
   "execution_count": 3,
   "id": "40509d99",
   "metadata": {},
   "outputs": [
    {
     "name": "stdout",
     "output_type": "stream",
     "text": [
      "Project root: d:\\UNI\\DSP391m\\project\n",
      "Python path: ['d:\\\\UNI\\\\DSP391m\\\\project', 'c:\\\\Users\\\\fxlqt\\\\.conda\\\\envs\\\\dsp\\\\python310.zip', 'c:\\\\Users\\\\fxlqt\\\\.conda\\\\envs\\\\dsp\\\\DLLs']\n"
     ]
    }
   ],
   "source": [
    "# Setup - Install project in development mode\n",
    "import sys\n",
    "from pathlib import Path\n",
    "\n",
    "# Add project root to path\n",
    "project_root = Path.cwd().parent\n",
    "sys.path.insert(0, str(project_root))\n",
    "\n",
    "print(f\"Project root: {project_root}\")\n",
    "print(f\"Python path: {sys.path[:3]}\")"
   ]
  },
  {
   "cell_type": "markdown",
   "id": "a266e9eb",
   "metadata": {},
   "source": [
    "# Traffic Forecast ML Training Pipeline\n",
    "\n",
    "This notebook provides an end-to-end machine learning pipeline for traffic speed prediction.\n",
    "\n",
    "## Pipeline Steps:\n",
    "1. **Data Loading** - Load collected traffic data\n",
    "2. **Exploratory Data Analysis** - Understand data distribution\n",
    "3. **Feature Engineering** - Create temporal, spatial, weather features\n",
    "4. **Data Preprocessing** - Clean, scale, split data\n",
    "5. **Model Training** - Train multiple ML models\n",
    "6. **Model Evaluation** - Compare performance metrics\n",
    "7. **Feature Importance** - Identify key predictors\n",
    "8. **Model Persistence** - Save best model"
   ]
  },
  {
   "cell_type": "markdown",
   "id": "14cf283f",
   "metadata": {},
   "source": [
    "## 1. Setup and Imports"
   ]
  },
  {
   "cell_type": "code",
   "execution_count": 6,
   "id": "af24e0c2",
   "metadata": {},
   "outputs": [
    {
     "name": "stdout",
     "output_type": "stream",
     "text": [
      " All imports successful!\n"
     ]
    }
   ],
   "source": [
    "# Standard imports\n",
    "import pandas as pd\n",
    "import numpy as np\n",
    "import matplotlib.pyplot as plt\n",
    "import seaborn as sns\n",
    "from pathlib import Path\n",
    "import warnings\n",
    "warnings.filterwarnings('ignore')\n",
    "\n",
    "# ML Pipeline imports - Skip DL for now due to import issues\n",
    "from traffic_forecast.ml.data_loader import DataLoader\n",
    "from traffic_forecast.ml.preprocess import DataPreprocessor, split_data, prepare_features_target\n",
    "from traffic_forecast.ml.features import build_features\n",
    "from traffic_forecast.ml.trainer import ModelTrainer\n",
    "\n",
    "# Plotting style\n",
    "plt.style.use('seaborn-v0_8-darkgrid')\n",
    "sns.set_palette('husl')\n",
    "\n",
    "# Display settings\n",
    "pd.set_option('display.max_columns', None)\n",
    "pd.set_option('display.max_rows', 100)\n",
    "\n",
    "print(\" All imports successful!\")"
   ]
  },
  {
   "cell_type": "markdown",
   "id": "3d946684",
   "metadata": {},
   "source": [
    "## 2. Data Loading"
   ]
  },
  {
   "cell_type": "code",
   "execution_count": 7,
   "id": "96357fc6",
   "metadata": {},
   "outputs": [
    {
     "name": "stdout",
     "output_type": "stream",
     "text": [
      "Available data runs:\n",
      "  [0] download_20251027_185415 - 2025-10-27 18:54:15\n",
      "  [1] download_20251027_181522 - 2025-10-27 18:15:22\n",
      "  [2] download_20251026_210927 - 2025-10-26 21:09:27\n",
      "\n",
      "Data Summary:\n",
      "  Total runs: 3\n",
      "  Latest run: download_20251027_185415\n",
      "  Records: 120\n",
      "  Features: 15\n"
     ]
    }
   ],
   "source": [
    "# Initialize data loader\n",
    "loader = DataLoader()\n",
    "\n",
    "# Check available runs\n",
    "print(\"Available data runs:\")\n",
    "runs = loader.list_runs()\n",
    "for i, run in enumerate(runs):\n",
    "    print(f\"  [{i}] {run['name']} - {run['timestamp']}\")\n",
    "\n",
    "# Get data summary\n",
    "summary = loader.get_data_summary()\n",
    "print(\"\\nData Summary:\")\n",
    "print(f\"  Total runs: {summary['total_runs']}\")\n",
    "if 'latest_run' in summary:\n",
    "    print(f\"  Latest run: {summary['latest_run']['name']}\")\n",
    "    print(f\"  Records: {summary['latest_run']['records']}\")\n",
    "    print(f\"  Features: {len(summary['latest_run']['features'])}\")"
   ]
  },
  {
   "cell_type": "code",
   "execution_count": 8,
   "id": "c48454be",
   "metadata": {},
   "outputs": [
    {
     "name": "stdout",
     "output_type": "stream",
     "text": [
      "Loaded 120 records\n",
      "\n",
      "Columns: ['node_a_id', 'node_b_id', 'distance_km', 'duration_sec', 'speed_kmh', 'timestamp', 'api_type', 'lat', 'lon', 'temperature_c', 'precipitation_mm', 'wind_speed_kmh', 'node_id_node', 'lat_node', 'lon_node']\n",
      "\n",
      "Data shape: (120, 15)\n"
     ]
    },
    {
     "data": {
      "text/html": [
       "<div>\n",
       "<style scoped>\n",
       "    .dataframe tbody tr th:only-of-type {\n",
       "        vertical-align: middle;\n",
       "    }\n",
       "\n",
       "    .dataframe tbody tr th {\n",
       "        vertical-align: top;\n",
       "    }\n",
       "\n",
       "    .dataframe thead th {\n",
       "        text-align: right;\n",
       "    }\n",
       "</style>\n",
       "<table border=\"1\" class=\"dataframe\">\n",
       "  <thead>\n",
       "    <tr style=\"text-align: right;\">\n",
       "      <th></th>\n",
       "      <th>node_a_id</th>\n",
       "      <th>node_b_id</th>\n",
       "      <th>distance_km</th>\n",
       "      <th>duration_sec</th>\n",
       "      <th>speed_kmh</th>\n",
       "      <th>timestamp</th>\n",
       "      <th>api_type</th>\n",
       "      <th>lat</th>\n",
       "      <th>lon</th>\n",
       "      <th>temperature_c</th>\n",
       "      <th>precipitation_mm</th>\n",
       "      <th>wind_speed_kmh</th>\n",
       "      <th>node_id_node</th>\n",
       "      <th>lat_node</th>\n",
       "      <th>lon_node</th>\n",
       "    </tr>\n",
       "  </thead>\n",
       "  <tbody>\n",
       "    <tr>\n",
       "      <th>0</th>\n",
       "      <td>node-10.771233-106.693127</td>\n",
       "      <td>node-10.770127-106.694102</td>\n",
       "      <td>0.162720</td>\n",
       "      <td>15.959485</td>\n",
       "      <td>36.704960</td>\n",
       "      <td>2025-10-26 13:55:56.835383</td>\n",
       "      <td>mock</td>\n",
       "      <td>10.771233</td>\n",
       "      <td>106.693127</td>\n",
       "      <td>26.6</td>\n",
       "      <td>0.4</td>\n",
       "      <td>3.5</td>\n",
       "      <td>node-10.771233-106.693127</td>\n",
       "      <td>10.771233</td>\n",
       "      <td>106.693127</td>\n",
       "    </tr>\n",
       "    <tr>\n",
       "      <th>1</th>\n",
       "      <td>node-10.771233-106.693127</td>\n",
       "      <td>node-10.770167-106.694198</td>\n",
       "      <td>0.166630</td>\n",
       "      <td>17.665174</td>\n",
       "      <td>33.957746</td>\n",
       "      <td>2025-10-26 13:55:56.835401</td>\n",
       "      <td>mock</td>\n",
       "      <td>10.771233</td>\n",
       "      <td>106.693127</td>\n",
       "      <td>26.6</td>\n",
       "      <td>0.4</td>\n",
       "      <td>3.5</td>\n",
       "      <td>node-10.771233-106.693127</td>\n",
       "      <td>10.771233</td>\n",
       "      <td>106.693127</td>\n",
       "    </tr>\n",
       "    <tr>\n",
       "      <th>2</th>\n",
       "      <td>node-10.771233-106.693127</td>\n",
       "      <td>node-10.769198-106.694628</td>\n",
       "      <td>0.279404</td>\n",
       "      <td>28.154492</td>\n",
       "      <td>35.726235</td>\n",
       "      <td>2025-10-26 13:55:56.835407</td>\n",
       "      <td>mock</td>\n",
       "      <td>10.771233</td>\n",
       "      <td>106.693127</td>\n",
       "      <td>26.6</td>\n",
       "      <td>0.4</td>\n",
       "      <td>3.5</td>\n",
       "      <td>node-10.771233-106.693127</td>\n",
       "      <td>10.771233</td>\n",
       "      <td>106.693127</td>\n",
       "    </tr>\n",
       "    <tr>\n",
       "      <th>3</th>\n",
       "      <td>node-10.764404-106.698972</td>\n",
       "      <td>node-10.763832-106.698113</td>\n",
       "      <td>0.113406</td>\n",
       "      <td>13.423668</td>\n",
       "      <td>30.413435</td>\n",
       "      <td>2025-10-26 13:55:56.835413</td>\n",
       "      <td>mock</td>\n",
       "      <td>10.764404</td>\n",
       "      <td>106.698972</td>\n",
       "      <td>26.6</td>\n",
       "      <td>0.4</td>\n",
       "      <td>3.5</td>\n",
       "      <td>node-10.764404-106.698972</td>\n",
       "      <td>10.764404</td>\n",
       "      <td>106.698972</td>\n",
       "    </tr>\n",
       "    <tr>\n",
       "      <th>4</th>\n",
       "      <td>node-10.764404-106.698972</td>\n",
       "      <td>node-10.765088-106.699763</td>\n",
       "      <td>0.115051</td>\n",
       "      <td>16.382343</td>\n",
       "      <td>25.282229</td>\n",
       "      <td>2025-10-26 13:55:56.835417</td>\n",
       "      <td>mock</td>\n",
       "      <td>10.764404</td>\n",
       "      <td>106.698972</td>\n",
       "      <td>26.6</td>\n",
       "      <td>0.4</td>\n",
       "      <td>3.5</td>\n",
       "      <td>node-10.764404-106.698972</td>\n",
       "      <td>10.764404</td>\n",
       "      <td>106.698972</td>\n",
       "    </tr>\n",
       "  </tbody>\n",
       "</table>\n",
       "</div>"
      ],
      "text/plain": [
       "                   node_a_id                  node_b_id  distance_km  \\\n",
       "0  node-10.771233-106.693127  node-10.770127-106.694102     0.162720   \n",
       "1  node-10.771233-106.693127  node-10.770167-106.694198     0.166630   \n",
       "2  node-10.771233-106.693127  node-10.769198-106.694628     0.279404   \n",
       "3  node-10.764404-106.698972  node-10.763832-106.698113     0.113406   \n",
       "4  node-10.764404-106.698972  node-10.765088-106.699763     0.115051   \n",
       "\n",
       "   duration_sec  speed_kmh                  timestamp api_type        lat  \\\n",
       "0     15.959485  36.704960 2025-10-26 13:55:56.835383     mock  10.771233   \n",
       "1     17.665174  33.957746 2025-10-26 13:55:56.835401     mock  10.771233   \n",
       "2     28.154492  35.726235 2025-10-26 13:55:56.835407     mock  10.771233   \n",
       "3     13.423668  30.413435 2025-10-26 13:55:56.835413     mock  10.764404   \n",
       "4     16.382343  25.282229 2025-10-26 13:55:56.835417     mock  10.764404   \n",
       "\n",
       "          lon  temperature_c  precipitation_mm  wind_speed_kmh  \\\n",
       "0  106.693127           26.6               0.4             3.5   \n",
       "1  106.693127           26.6               0.4             3.5   \n",
       "2  106.693127           26.6               0.4             3.5   \n",
       "3  106.698972           26.6               0.4             3.5   \n",
       "4  106.698972           26.6               0.4             3.5   \n",
       "\n",
       "                node_id_node   lat_node    lon_node  \n",
       "0  node-10.771233-106.693127  10.771233  106.693127  \n",
       "1  node-10.771233-106.693127  10.771233  106.693127  \n",
       "2  node-10.771233-106.693127  10.771233  106.693127  \n",
       "3  node-10.764404-106.698972  10.764404  106.698972  \n",
       "4  node-10.764404-106.698972  10.764404  106.698972  "
      ]
     },
     "execution_count": 8,
     "metadata": {},
     "output_type": "execute_result"
    }
   ],
   "source": [
    "# Load data (choose one):\n",
    "\n",
    "# Option 1: Load latest run only\n",
    "df = loader.load_merged_data(run_idx=0)\n",
    "\n",
    "# Option 2: Load all runs\n",
    "# df = loader.load_multiple_runs()\n",
    "\n",
    "print(f\"Loaded {len(df)} records\")\n",
    "print(f\"\\nColumns: {list(df.columns)}\")\n",
    "print(f\"\\nData shape: {df.shape}\")\n",
    "df.head()"
   ]
  },
  {
   "cell_type": "markdown",
   "id": "99c41581",
   "metadata": {},
   "source": [
    "## 3. Exploratory Data Analysis"
   ]
  },
  {
   "cell_type": "code",
   "execution_count": 9,
   "id": "2b973cfb",
   "metadata": {},
   "outputs": [
    {
     "name": "stdout",
     "output_type": "stream",
     "text": [
      "Dataset Statistics:\n",
      "       distance_km  duration_sec   speed_kmh                      timestamp  \\\n",
      "count   120.000000    120.000000  120.000000                            120   \n",
      "mean      0.130536     16.814912   31.147999  2025-10-26 13:55:56.836555776   \n",
      "min       0.008255      0.720053   16.497521     2025-10-26 13:55:56.835383   \n",
      "25%       0.016828      2.211230   24.689021  2025-10-26 13:55:56.836082176   \n",
      "50%       0.076129      7.699476   30.262330  2025-10-26 13:55:56.836566272   \n",
      "75%       0.146721     18.090292   38.364163  2025-10-26 13:55:56.836986880   \n",
      "max       0.654357    116.801574   44.992913     2025-10-26 13:55:56.837680   \n",
      "std       0.159376     23.245186    8.236060                            NaN   \n",
      "\n",
      "              lat         lon  temperature_c  precipitation_mm  \\\n",
      "count  120.000000  120.000000   1.200000e+02      1.200000e+02   \n",
      "mean    10.770089  106.698928   2.660000e+01      4.000000e-01   \n",
      "min     10.763673  106.690539   2.660000e+01      4.000000e-01   \n",
      "25%     10.767498  106.696430   2.660000e+01      4.000000e-01   \n",
      "50%     10.769736  106.699273   2.660000e+01      4.000000e-01   \n",
      "75%     10.771057  106.701520   2.660000e+01      4.000000e-01   \n",
      "max     10.781534  106.707136   2.660000e+01      4.000000e-01   \n",
      "std      0.004453    0.003955   7.135220e-15      5.574390e-17   \n",
      "\n",
      "       wind_speed_kmh    lat_node    lon_node  \n",
      "count           120.0  120.000000  120.000000  \n",
      "mean              3.5   10.770089  106.698928  \n",
      "min               3.5   10.763673  106.690539  \n",
      "25%               3.5   10.767498  106.696430  \n",
      "50%               3.5   10.769736  106.699273  \n",
      "75%               3.5   10.771057  106.701520  \n",
      "max               3.5   10.781534  106.707136  \n",
      "std               0.0    0.004453    0.003955  \n",
      "\n",
      "Missing Values:\n",
      "No missing values!\n"
     ]
    }
   ],
   "source": [
    "# Basic statistics\n",
    "print(\"Dataset Statistics:\")\n",
    "print(df.describe())\n",
    "\n",
    "# Missing values\n",
    "print(\"\\nMissing Values:\")\n",
    "missing = df.isnull().sum()\n",
    "missing = missing[missing > 0]\n",
    "if len(missing) > 0:\n",
    "    print(missing)\n",
    "else:\n",
    "    print(\"No missing values!\")"
   ]
  },
  {
   "cell_type": "code",
   "execution_count": 10,
   "id": "f5dd534b",
   "metadata": {},
   "outputs": [
    {
     "data": {
      "image/png": "[encoded data removed]",
      "text/plain": [
       "<Figure size 1400x500 with 2 Axes>"
      ]
     },
     "metadata": {},
     "output_type": "display_data"
    },
    {
     "name": "stdout",
     "output_type": "stream",
     "text": [
      "Speed Statistics:\n",
      "  Mean: 31.15 km/h\n",
      "  Median: 30.26 km/h\n",
      "  Std: 8.24 km/h\n",
      "  Min: 16.50 km/h\n",
      "  Max: 44.99 km/h\n"
     ]
    }
   ],
   "source": [
    "# Target variable distribution\n",
    "fig, axes = plt.subplots(1, 2, figsize=(14, 5))\n",
    "\n",
    "# Histogram\n",
    "axes[0].hist(df['speed_kmh'], bins=50, edgecolor='black')\n",
    "axes[0].set_title('Speed Distribution')\n",
    "axes[0].set_xlabel('Speed (km/h)')\n",
    "axes[0].set_ylabel('Frequency')\n",
    "axes[0].axvline(df['speed_kmh'].mean(), color='red', linestyle='--', label='Mean')\n",
    "axes[0].axvline(df['speed_kmh'].median(), color='green', linestyle='--', label='Median')\n",
    "axes[0].legend()\n",
    "\n",
    "# Box plot\n",
    "axes[1].boxplot(df['speed_kmh'])\n",
    "axes[1].set_title('Speed Box Plot')\n",
    "axes[1].set_ylabel('Speed (km/h)')\n",
    "\n",
    "plt.tight_layout()\n",
    "plt.show()\n",
    "\n",
    "print(f\"Speed Statistics:\")\n",
    "print(f\"  Mean: {df['speed_kmh'].mean():.2f} km/h\")\n",
    "print(f\"  Median: {df['speed_kmh'].median():.2f} km/h\")\n",
    "print(f\"  Std: {df['speed_kmh'].std():.2f} km/h\")\n",
    "print(f\"  Min: {df['speed_kmh'].min():.2f} km/h\")\n",
    "print(f\"  Max: {df['speed_kmh'].max():.2f} km/h\")"
   ]
  },
  {
   "cell_type": "code",
   "execution_count": null,
   "id": "9d5e0c8e",
   "metadata": {},
   "outputs": [],
   "source": [
    "# Weather vs Speed\n",
    "fig, axes = plt.subplots(1, 3, figsize=(18, 5))\n",
    "\n",
    "# Temperature\n",
    "axes[0].scatter(df['temperature_c'], df['speed_kmh'], alpha=0.5)\n",
    "axes[0].set_title('Temperature vs Speed')\n",
    "axes[0].set_xlabel('Temperature (°C)')\n",
    "axes[0].set_ylabel('Speed (km/h)')\n",
    "\n",
    "# Precipitation\n",
    "axes[1].scatter(df['precipitation_mm'], df['speed_kmh'], alpha=0.5)\n",
    "axes[1].set_title('Precipitation vs Speed')\n",
    "axes[1].set_xlabel('Precipitation (mm)')\n",
    "axes[1].set_ylabel('Speed (km/h)')\n",
    "\n",
    "# Wind\n",
    "axes[2].scatter(df['wind_speed_kmh'], df['speed_kmh'], alpha=0.5)\n",
    "axes[2].set_title('Wind vs Speed')\n",
    "axes[2].set_xlabel('Wind Speed (km/h)')\n",
    "axes[2].set_ylabel('Speed (km/h)')\n",
    "\n",
    "plt.tight_layout()\n",
    "plt.show()"
   ]
  },
  {
   "cell_type": "markdown",
   "id": "ba04c062",
   "metadata": {},
   "source": [
    "## 4. Feature Engineering"
   ]
  },
  {
   "cell_type": "code",
   "execution_count": 11,
   "id": "a40d7474",
   "metadata": {},
   "outputs": [
    {
     "name": "stdout",
     "output_type": "stream",
     "text": [
      "Building features...\n",
      "\n",
      "Features created: 37 columns\n",
      "New feature columns:\n",
      "  ['day_cos', 'day_of_month', 'day_of_week', 'day_sin', 'hour', 'hour_cos', 'hour_sin', 'is_congested', 'is_raining', 'is_rush_hour', 'is_weekend', 'lat_diff', 'lon_diff', 'month', 'precipitation_category', 'speed_category', 'speed_to_distance_ratio', 'temp_category', 'time_of_day', 'weather_severity', 'wind_category', 'year']\n"
     ]
    }
   ],
   "source": [
    "# Build all features\n",
    "print(\"Building features...\")\n",
    "df_features = build_features(\n",
    "    df,\n",
    "    include_temporal=True,\n",
    "    include_spatial=True,\n",
    "    include_weather=True,\n",
    "    include_traffic=True,\n",
    "    include_lags=False,  # Set True if you have time series data\n",
    "    include_rolling=False  # Set True for rolling window features\n",
    ")\n",
    "\n",
    "print(f\"\\nFeatures created: {df_features.shape[1]} columns\")\n",
    "print(f\"New feature columns:\")\n",
    "new_cols = set(df_features.columns) - set(df.columns)\n",
    "print(f\"  {sorted(new_cols)}\")"
   ]
  },
  {
   "cell_type": "code",
   "execution_count": 12,
   "id": "3f8d567c",
   "metadata": {},
   "outputs": [
    {
     "data": {
      "image/png": "[encoded data removed]",
      "text/plain": [
       "<Figure size 1200x500 with 1 Axes>"
      ]
     },
     "metadata": {},
     "output_type": "display_data"
    }
   ],
   "source": [
    "# Visualize temporal patterns\n",
    "if 'hour' in df_features.columns:\n",
    "    hourly_speed = df_features.groupby('hour')['speed_kmh'].mean()\n",
    "    \n",
    "    plt.figure(figsize=(12, 5))\n",
    "    plt.plot(hourly_speed.index, hourly_speed.values, marker='o')\n",
    "    plt.title('Average Speed by Hour of Day')\n",
    "    plt.xlabel('Hour')\n",
    "    plt.ylabel('Average Speed (km/h)')\n",
    "    plt.grid(True, alpha=0.3)\n",
    "    plt.xticks(range(24))\n",
    "    plt.show()"
   ]
  },
  {
   "cell_type": "markdown",
   "id": "4d34e5a6",
   "metadata": {},
   "source": [
    "## 5. Data Preprocessing & Splitting"
   ]
  },
  {
   "cell_type": "code",
   "execution_count": 13,
   "id": "50158049",
   "metadata": {},
   "outputs": [
    {
     "name": "stdout",
     "output_type": "stream",
     "text": [
      "Data split:\n",
      "  Train: 84 samples\n",
      "  Val:   12 samples\n",
      "  Test:  24 samples\n"
     ]
    }
   ],
   "source": [
    "# Split data into train, validation, and test sets\n",
    "train_df, val_df, test_df = split_data(\n",
    "    df_features,\n",
    "    target_column='speed_kmh',\n",
    "    test_size=0.2,\n",
    "    val_size=0.1,\n",
    "    random_state=42,\n",
    "    time_based=False  # Set True for time-series split\n",
    ")\n",
    "\n",
    "print(f\"Data split:\")\n",
    "print(f\"  Train: {len(train_df)} samples\")\n",
    "print(f\"  Val:   {len(val_df)} samples\")\n",
    "print(f\"  Test:  {len(test_df)} samples\")"
   ]
  },
  {
   "cell_type": "code",
   "execution_count": 14,
   "id": "4bb286a5",
   "metadata": {},
   "outputs": [
    {
     "name": "stdout",
     "output_type": "stream",
     "text": [
      "\n",
      "Feature matrix shape:\n",
      "  X_train: (84, 31)\n",
      "  X_val:   (12, 31)\n",
      "  X_test:  (24, 31)\n",
      "\n",
      "Features used: ['distance_km', 'duration_sec', 'lat', 'lon', 'temperature_c', 'precipitation_mm', 'wind_speed_kmh', 'lat_node', 'lon_node', 'hour', 'day_of_week', 'day_of_month', 'month', 'year', 'is_weekend', 'is_rush_hour', 'time_of_day', 'hour_sin', 'hour_cos', 'day_sin', 'day_cos', 'lat_diff', 'lon_diff', 'is_raining', 'precipitation_category', 'temp_category', 'wind_category', 'weather_severity', 'speed_category', 'is_congested', 'speed_to_distance_ratio']\n"
     ]
    }
   ],
   "source": [
    "# Prepare features and target\n",
    "X_train, y_train = prepare_features_target(train_df, target_column='speed_kmh')\n",
    "X_val, y_val = prepare_features_target(val_df, target_column='speed_kmh')\n",
    "X_test, y_test = prepare_features_target(test_df, target_column='speed_kmh')\n",
    "\n",
    "print(f\"\\nFeature matrix shape:\")\n",
    "print(f\"  X_train: {X_train.shape}\")\n",
    "print(f\"  X_val:   {X_val.shape}\")\n",
    "print(f\"  X_test:  {X_test.shape}\")\n",
    "\n",
    "print(f\"\\nFeatures used: {list(X_train.columns)}\")"
   ]
  },
  {
   "cell_type": "code",
   "execution_count": 16,
   "id": "4416e830",
   "metadata": {},
   "outputs": [
    {
     "name": "stdout",
     "output_type": "stream",
     "text": [
      " Data preprocessing complete!\n"
     ]
    }
   ],
   "source": [
    "# Preprocess data (scaling, imputation)\n",
    "preprocessor = DataPreprocessor(\n",
    "    target_column='speed_kmh',\n",
    "    scaler_type='standard',  # 'standard', 'robust', or 'none'\n",
    "    handle_outliers=True\n",
    ")\n",
    "\n",
    "# Fit on training data\n",
    "preprocessor.fit(train_df, feature_columns=list(X_train.columns))\n",
    "\n",
    "# Transform all sets\n",
    "train_processed = preprocessor.transform(train_df)\n",
    "val_processed = preprocessor.transform(val_df)\n",
    "test_processed = preprocessor.transform(test_df)\n",
    "\n",
    "# Extract preprocessed features\n",
    "X_train_scaled, _ = prepare_features_target(train_processed, target_column='speed_kmh')\n",
    "X_val_scaled, _ = prepare_features_target(val_processed, target_column='speed_kmh')\n",
    "X_test_scaled, _ = prepare_features_target(test_processed, target_column='speed_kmh')\n",
    "\n",
    "print(\" Data preprocessing complete!\")"
   ]
  },
  {
   "cell_type": "markdown",
   "id": "75cb117d",
   "metadata": {},
   "source": [
    "## 6. Model Training"
   ]
  },
  {
   "cell_type": "markdown",
   "id": "e14e90fd",
   "metadata": {},
   "source": [
    "### 6.1 Train Single Model"
   ]
  },
  {
   "cell_type": "code",
   "execution_count": 17,
   "id": "690c44f0",
   "metadata": {},
   "outputs": [
    {
     "name": "stdout",
     "output_type": "stream",
     "text": [
      "Training random_forest model...\n",
      "\n",
      "Train Metrics:\n",
      "  RMSE: 2.1047\n",
      "  MAE:  1.6735\n",
      "  R²:   0.9330\n",
      "  MAPE: 0.0525\n",
      "\n",
      "Validation Metrics:\n",
      "  RMSE: 3.9783\n",
      "  MAE:  3.6181\n",
      "  R²:   0.8325\n",
      "  MAPE: 0.1166\n",
      "Training complete. Train R²: 0.9330\n",
      "Validation R²: 0.8325\n",
      "\n",
      "Test Metrics:\n",
      "  RMSE: 2.6636\n",
      "  MAE:  2.2945\n",
      "  R²:   0.8682\n",
      "  MAPE: 0.0797\n",
      "\n",
      "Test Metrics:\n",
      "  RMSE: 2.6636\n",
      "  MAE:  2.2945\n",
      "  R²:   0.8682\n",
      "  MAPE: 0.0797\n"
     ]
    }
   ],
   "source": [
    "# Train Random Forest model\n",
    "trainer = ModelTrainer(\n",
    "    model_type='random_forest',\n",
    "    params={\n",
    "        'n_estimators': 100,\n",
    "        'max_depth': 10,\n",
    "        'min_samples_split': 5,\n",
    "        'random_state': 42,\n",
    "        'n_jobs': -1\n",
    "    }\n",
    ")\n",
    "\n",
    "# Train\n",
    "trainer.train(X_train_scaled, y_train, X_val_scaled, y_val)\n",
    "\n",
    "# Evaluate on test set\n",
    "test_metrics = trainer.evaluate(X_test_scaled, y_test)"
   ]
  },
  {
   "cell_type": "markdown",
   "id": "4b0278bd",
   "metadata": {},
   "source": [
    "### 6.2 Compare Multiple Models"
   ]
  },
  {
   "cell_type": "code",
   "execution_count": 20,
   "id": "591d095a",
   "metadata": {},
   "outputs": [
    {
     "name": "stdout",
     "output_type": "stream",
     "text": [
      "\n",
      "============================================================\n",
      "Training XGBOOST\n",
      "============================================================\n",
      "Training xgboost model...\n",
      "\n",
      "Train Metrics:\n",
      "  RMSE: 0.1107\n",
      "  MAE:  0.0784\n",
      "  R²:   0.9998\n",
      "  MAPE: 0.0024\n",
      "\n",
      "Validation Metrics:\n",
      "  RMSE: 3.8507\n",
      "  MAE:  3.1046\n",
      "  R²:   0.8431\n",
      "  MAPE: 0.0929\n",
      "Training complete. Train R²: 0.9998\n",
      "Validation R²: 0.8431\n",
      "\n",
      "Test Metrics:\n",
      "  RMSE: 0.1107\n",
      "  MAE:  0.0784\n",
      "  R²:   0.9998\n",
      "  MAPE: 0.0024\n",
      "\n",
      "Test Metrics:\n",
      "  RMSE: 3.8507\n",
      "  MAE:  3.1046\n",
      "  R²:   0.8431\n",
      "  MAPE: 0.0929\n",
      "\n",
      "Test Metrics:\n",
      "  RMSE: 2.4241\n",
      "  MAE:  1.9338\n",
      "  R²:   0.8908\n",
      "  MAPE: 0.0673\n",
      "\n",
      "============================================================\n",
      "Training LIGHTGBM\n",
      "============================================================\n",
      "Training lightgbm model...\n",
      "\n",
      "Train Metrics:\n",
      "  RMSE: 3.5976\n",
      "  MAE:  2.9897\n",
      "  R²:   0.8041\n",
      "  MAPE: 0.1039\n",
      "\n",
      "Validation Metrics:\n",
      "  RMSE: 4.2130\n",
      "  MAE:  3.3996\n",
      "  R²:   0.8122\n",
      "  MAPE: 0.1004\n",
      "Training complete. Train R²: 0.8041\n",
      "Validation R²: 0.8122\n",
      "\n",
      "Test Metrics:\n",
      "  RMSE: 3.5976\n",
      "  MAE:  2.9897\n",
      "  R²:   0.8041\n",
      "  MAPE: 0.1039\n",
      "\n",
      "Test Metrics:\n",
      "  RMSE: 4.2130\n",
      "  MAE:  3.3996\n",
      "  R²:   0.8122\n",
      "  MAPE: 0.1004\n",
      "\n",
      "Test Metrics:\n",
      "  RMSE: 2.9172\n",
      "  MAE:  2.3282\n",
      "  R²:   0.8419\n",
      "  MAPE: 0.0804\n",
      "\n",
      "============================================================\n",
      "Training GRADIENT_BOOSTING\n",
      "============================================================\n",
      "Training gradient_boosting model...\n",
      "\n",
      "Train Metrics:\n",
      "  RMSE: 0.1344\n",
      "  MAE:  0.1108\n",
      "  R²:   0.9997\n",
      "  MAPE: 0.0036\n",
      "\n",
      "Validation Metrics:\n",
      "  RMSE: 4.7807\n",
      "  MAE:  4.0434\n",
      "  R²:   0.7581\n",
      "  MAPE: 0.1212\n",
      "Training complete. Train R²: 0.9997\n",
      "Validation R²: 0.7581\n",
      "\n",
      "Test Metrics:\n",
      "  RMSE: 0.1344\n",
      "  MAE:  0.1108\n",
      "  R²:   0.9997\n",
      "  MAPE: 0.0036\n",
      "\n",
      "Test Metrics:\n",
      "  RMSE: 4.7807\n",
      "  MAE:  4.0434\n",
      "  R²:   0.7581\n",
      "  MAPE: 0.1212\n",
      "\n",
      "Test Metrics:\n",
      "  RMSE: 2.2388\n",
      "  MAE:  1.8046\n",
      "  R²:   0.9069\n",
      "  MAPE: 0.0621\n",
      "\n",
      "============================================================\n",
      "MODEL COMPARISON\n",
      "============================================================\n",
      "            Model  Train_R2   Val_R2  Test_RMSE  Test_MAE  Test_R2  Test_MAPE\n",
      "          xgboost  0.999814 0.843095   2.424055  1.933779 0.890843   0.067285\n",
      "         lightgbm  0.804140 0.812174   2.917221  2.328183 0.841909   0.080358\n",
      "gradient_boosting  0.999727 0.758146   2.238815  1.804603 0.906888   0.062117\n"
     ]
    }
   ],
   "source": [
    "# Train multiple models and compare\n",
    "models_to_train = ['xgboost', 'lightgbm', 'gradient_boosting']\n",
    "results = []\n",
    "\n",
    "for model_type in models_to_train:\n",
    "    print(f\"\\n{'='*60}\")\n",
    "    print(f\"Training {model_type.upper()}\")\n",
    "    print(f\"{'='*60}\")\n",
    "    \n",
    "    trainer = ModelTrainer(model_type=model_type)\n",
    "    trainer.train(X_train_scaled, y_train, X_val_scaled, y_val)\n",
    "    \n",
    "    # Evaluate on train, val, test sets\n",
    "    train_metrics = trainer.evaluate(X_train_scaled, y_train)\n",
    "    val_metrics = trainer.evaluate(X_val_scaled, y_val)\n",
    "    test_metrics = trainer.evaluate(X_test_scaled, y_test)\n",
    "    \n",
    "    results.append({\n",
    "        'Model': model_type,\n",
    "        'Train_R2': train_metrics['r2'],\n",
    "        'Val_R2': val_metrics['r2'],\n",
    "        'Test_RMSE': test_metrics['rmse'],\n",
    "        'Test_MAE': test_metrics['mae'],\n",
    "        'Test_R2': test_metrics['r2'],\n",
    "        'Test_MAPE': test_metrics['mape']\n",
    "    })\n",
    "\n",
    "# Create comparison dataframe\n",
    "comparison_df = pd.DataFrame(results)\n",
    "print(f\"\\n{'='*60}\")\n",
    "print(\"MODEL COMPARISON\")\n",
    "print(f\"{'='*60}\")\n",
    "print(comparison_df.to_string(index=False))"
   ]
  },
  {
   "cell_type": "markdown",
   "id": "78d16682",
   "metadata": {},
   "source": [
    "### 6.3 Cross-Validation"
   ]
  },
  {
   "cell_type": "code",
   "execution_count": null,
   "id": "1bb431ea",
   "metadata": {},
   "outputs": [],
   "source": [
    "# Perform 5-fold cross-validation\n",
    "cv_results = trainer.cross_validate(\n",
    "    X_train_scaled,\n",
    "    y_train,\n",
    "    cv=5,\n",
    "    scoring='r2'\n",
    ")\n",
    "\n",
    "print(f\"\\nCross-validation scores: {cv_results['scores']}\")\n",
    "print(f\"Mean CV score: {cv_results['mean_score']:.4f} (+/- {cv_results['std_score']:.4f})\")"
   ]
  },
  {
   "cell_type": "markdown",
   "id": "7da59886",
   "metadata": {},
   "source": [
    "## 7. Model Evaluation"
   ]
  },
  {
   "cell_type": "code",
   "execution_count": null,
   "id": "59b6542c",
   "metadata": {},
   "outputs": [],
   "source": [
    "# Make predictions\n",
    "y_pred = trainer.predict(X_test_scaled)\n",
    "\n",
    "# Prediction vs Actual plot\n",
    "fig, axes = plt.subplots(1, 2, figsize=(14, 5))\n",
    "\n",
    "# Scatter plot\n",
    "axes[0].scatter(y_test, y_pred, alpha=0.5)\n",
    "axes[0].plot([y_test.min(), y_test.max()], [y_test.min(), y_test.max()], 'r--', lw=2)\n",
    "axes[0].set_title('Predicted vs Actual Speed')\n",
    "axes[0].set_xlabel('Actual Speed (km/h)')\n",
    "axes[0].set_ylabel('Predicted Speed (km/h)')\n",
    "axes[0].grid(True, alpha=0.3)\n",
    "\n",
    "# Residuals plot\n",
    "residuals = y_test - y_pred\n",
    "axes[1].scatter(y_pred, residuals, alpha=0.5)\n",
    "axes[1].axhline(y=0, color='r', linestyle='--', lw=2)\n",
    "axes[1].set_title('Residuals Plot')\n",
    "axes[1].set_xlabel('Predicted Speed (km/h)')\n",
    "axes[1].set_ylabel('Residuals')\n",
    "axes[1].grid(True, alpha=0.3)\n",
    "\n",
    "plt.tight_layout()\n",
    "plt.show()\n",
    "\n",
    "# Error distribution\n",
    "plt.figure(figsize=(10, 5))\n",
    "plt.hist(residuals, bins=50, edgecolor='black')\n",
    "plt.axvline(x=0, color='r', linestyle='--', lw=2)\n",
    "plt.title('Error Distribution')\n",
    "plt.xlabel('Prediction Error (km/h)')\n",
    "plt.ylabel('Frequency')\n",
    "plt.show()"
   ]
  },
  {
   "cell_type": "markdown",
   "id": "b17cb098",
   "metadata": {},
   "source": [
    "## 8. Feature Importance"
   ]
  },
  {
   "cell_type": "code",
   "execution_count": null,
   "id": "77562d05",
   "metadata": {},
   "outputs": [],
   "source": [
    "# Get feature importance\n",
    "importance_df = trainer.get_feature_importance(top_n=20)\n",
    "\n",
    "if not importance_df.empty:\n",
    "    # Plot feature importance\n",
    "    plt.figure(figsize=(10, 8))\n",
    "    plt.barh(importance_df['feature'], importance_df['importance'])\n",
    "    plt.xlabel('Importance')\n",
    "    plt.title('Top 20 Feature Importance')\n",
    "    plt.gca().invert_yaxis()\n",
    "    plt.tight_layout()\n",
    "    plt.show()\n",
    "    \n",
    "    print(\"\\nTop 10 Most Important Features:\")\n",
    "    print(importance_df.head(10).to_string(index=False))\n",
    "else:\n",
    "    print(\"Feature importance not available for this model type.\")"
   ]
  },
  {
   "cell_type": "markdown",
   "id": "b3fa8c0d",
   "metadata": {},
   "source": [
    "## 9. Hyperparameter Tuning (Optional)"
   ]
  },
  {
   "cell_type": "code",
   "execution_count": null,
   "id": "3a62e001",
   "metadata": {},
   "outputs": [],
   "source": [
    "# Define parameter grid for tuning\n",
    "param_grid = {\n",
    "    'n_estimators': [50, 100, 200],\n",
    "    'max_depth': [5, 10, 15],\n",
    "    'min_samples_split': [2, 5, 10]\n",
    "}\n",
    "\n",
    "# Tune hyperparameters\n",
    "tuning_trainer = ModelTrainer(model_type='random_forest')\n",
    "tuning_results = tuning_trainer.tune_hyperparameters(\n",
    "    X_train_scaled,\n",
    "    y_train,\n",
    "    param_grid=param_grid,\n",
    "    cv=3,\n",
    "    scoring='r2'\n",
    ")\n",
    "\n",
    "print(f\"\\nBest parameters: {tuning_results['best_params']}\")\n",
    "print(f\"Best CV score: {tuning_results['best_score']:.4f}\")"
   ]
  },
  {
   "cell_type": "markdown",
   "id": "4c3bf936",
   "metadata": {},
   "source": [
    "## 10. Save Model"
   ]
  },
  {
   "cell_type": "code",
   "execution_count": null,
   "id": "ab851108",
   "metadata": {},
   "outputs": [],
   "source": [
    "# Save the best model\n",
    "model_path = trainer.save_model(name='best_traffic_model.joblib')\n",
    "\n",
    "print(f\"\\n Model saved to: {model_path}\")\n",
    "print(f\"\\nModel performance summary:\")\n",
    "print(f\"  Training R²: {trainer.training_metrics['r2']:.4f}\")\n",
    "if trainer.validation_metrics:\n",
    "    print(f\"  Validation R²: {trainer.validation_metrics['r2']:.4f}\")\n",
    "print(f\"  Test R²: {trainer.test_metrics['r2']:.4f}\")\n",
    "print(f\"  Test RMSE: {trainer.test_metrics['rmse']:.4f}\")\n",
    "print(f\"  Test MAE: {trainer.test_metrics['mae']:.4f}\")"
   ]
  },
  {
   "cell_type": "markdown",
   "id": "3f3d0bdc",
   "metadata": {},
   "source": [
    "## 11. Load and Use Saved Model"
   ]
  },
  {
   "cell_type": "code",
   "execution_count": null,
   "id": "961983d0",
   "metadata": {},
   "outputs": [],
   "source": [
    "# Load saved model\n",
    "loaded_trainer = ModelTrainer.load_model(model_path)\n",
    "\n",
    "# Make predictions with loaded model\n",
    "y_pred_loaded = loaded_trainer.predict(X_test_scaled)\n",
    "\n",
    "# Verify predictions match\n",
    "assert np.allclose(y_pred, y_pred_loaded), \"Predictions don't match!\"\n",
    "print(\" Model loaded successfully and predictions verified!\")"
   ]
  },
  {
   "cell_type": "markdown",
   "id": "e7d14237",
   "metadata": {},
   "source": [
    "## Summary\n",
    "\n",
    "This notebook demonstrated:\n",
    "-  Loading traffic data from collected runs\n",
    "-  Exploratory data analysis\n",
    "-  Feature engineering (temporal, spatial, weather)\n",
    "-  Data preprocessing and splitting\n",
    "-  Training multiple ML models\n",
    "-  Model evaluation and comparison\n",
    "-  Feature importance analysis\n",
    "-  Hyperparameter tuning\n",
    "-  Model persistence and loading\n",
    "\n",
    "### Next Steps:\n",
    "1. Collect more data for better model performance\n",
    "2. Try advanced models (neural networks, ensemble methods)\n",
    "3. Implement real-time prediction API\n",
    "4. Deploy model to production\n",
    "5. Monitor model performance over time"
   ]
  },
  {
   "cell_type": "markdown",
   "id": "439ebf89",
   "metadata": {},
   "source": [
    "## 12. Deep Learning Models (LSTM) \n",
    "\n",
    "For time-series forecasting, LSTM models can capture temporal dependencies better than traditional ML models."
   ]
  },
  {
   "cell_type": "code",
   "execution_count": null,
   "id": "4c3b0aa4",
   "metadata": {},
   "outputs": [],
   "source": [
    "# Check if deep learning is available\n",
    "from traffic_forecast.ml import HAS_DL\n",
    "\n",
    "if HAS_DL:\n",
    "    from traffic_forecast.ml import DLModelTrainer\n",
    "    print(\" Deep Learning models available\")\n",
    "    print(f\"  Available models: {list(DLModelTrainer.MODELS.keys())}\")\n",
    "else:\n",
    "    print(\" Deep Learning not available\")\n",
    "    print(\"  Install TensorFlow: pip install tensorflow\")"
   ]
  },
  {
   "cell_type": "markdown",
   "id": "d865c0d7",
   "metadata": {},
   "source": [
    "### 12.1 Train LSTM Model\n",
    "\n",
    "LSTM (Long Short-Term Memory) is designed for sequential data and can learn long-term dependencies."
   ]
  },
  {
   "cell_type": "code",
   "execution_count": null,
   "id": "a7e7184e",
   "metadata": {},
   "outputs": [],
   "source": [
    "if HAS_DL:\n",
    "    # Create LSTM trainer\n",
    "    lstm_trainer = DLModelTrainer(\n",
    "        model_type='lstm',\n",
    "        params={\n",
    "            'sequence_length': 12,  # Use last 12 timesteps\n",
    "            'lstm_units': [128, 64],\n",
    "            'dropout_rate': 0.2,\n",
    "            'learning_rate': 0.001\n",
    "        }\n",
    "    )\n",
    "    \n",
    "    print(\"Training LSTM model...\")\n",
    "    print(f\"Training samples: {len(X_train_scaled)}\")\n",
    "    print(f\"This may take a few minutes...\")\n",
    "    \n",
    "    # Train (fewer epochs for demo)\n",
    "    lstm_trainer.train(\n",
    "        X_train_scaled, y_train,\n",
    "        X_val_scaled, y_val,\n",
    "        epochs=30,\n",
    "        batch_size=32,\n",
    "        verbose=1\n",
    "    )\n",
    "    \n",
    "    print(\"\\n LSTM training complete!\")\n",
    "else:\n",
    "    print(\" Skipping LSTM training - TensorFlow not available\")"
   ]
  },
  {
   "cell_type": "markdown",
   "id": "6dcc5c4f",
   "metadata": {},
   "source": [
    "### 12.2 Evaluate LSTM Model"
   ]
  },
  {
   "cell_type": "code",
   "execution_count": null,
   "id": "76cb9fcd",
   "metadata": {},
   "outputs": [],
   "source": [
    "if HAS_DL and 'lstm_trainer' in locals():\n",
    "    # Evaluate on test set\n",
    "    lstm_metrics = lstm_trainer.evaluate(X_test_scaled, y_test)\n",
    "    \n",
    "    print(\"LSTM Test Metrics:\")\n",
    "    print(f\"  RMSE: {lstm_metrics['rmse']:.4f}\")\n",
    "    print(f\"  MAE:  {lstm_metrics['mae']:.4f}\")\n",
    "    print(f\"  R²:   {lstm_metrics['r2']:.4f}\")\n",
    "    print(f\"  MAPE: {lstm_metrics['mape']:.2f}%\")\n",
    "    \n",
    "    # Compare with best traditional ML model\n",
    "    print(f\"\\nComparison with XGBoost:\")\n",
    "    print(f\"  XGBoost R²: {xgb_metrics['r2']:.4f}\")\n",
    "    print(f\"  LSTM R²:    {lstm_metrics['r2']:.4f}\")\n",
    "    \n",
    "    if lstm_metrics['r2'] > xgb_metrics['r2']:\n",
    "        print(\"  → LSTM performs better! \")\n",
    "    else:\n",
    "        print(\"  → XGBoost still better (more data may help LSTM)\")\n",
    "else:\n",
    "    print(\" LSTM not trained\")"
   ]
  },
  {
   "cell_type": "markdown",
   "id": "edc47390",
   "metadata": {},
   "source": [
    "### 12.3 Save LSTM Model"
   ]
  },
  {
   "cell_type": "code",
   "execution_count": null,
   "id": "4c407cfd",
   "metadata": {},
   "outputs": [],
   "source": [
    "if HAS_DL and 'lstm_trainer' in locals():\n",
    "    # Save LSTM model\n",
    "    lstm_path = lstm_trainer.save_model('traffic_lstm_v1')\n",
    "    print(f\" LSTM model saved to {lstm_path}\")\n",
    "    \n",
    "    # Model can be loaded later with:\n",
    "    # loaded_lstm = DLModelTrainer.load_model(lstm_path, model_type='lstm')\n",
    "else:\n",
    "    print(\" LSTM not trained, nothing to save\")"
   ]
  },
  {
   "cell_type": "markdown",
   "id": "5793b3d9",
   "metadata": {},
   "source": [
    "## 13. Model Selection Guidance \n",
    "\n",
    "### When to use each model:\n",
    "\n",
    "| Model | Best For | Speed | Accuracy | Data Needed |\n",
    "|-------|----------|-------|----------|-------------|\n",
    "| **Ridge/Lasso** | Baseline, interpretability |  |  | Small |\n",
    "| **Random Forest** | General purpose, robust |  |  | Medium |\n",
    "| **XGBoost** | Best accuracy (tabular) |  |  | Medium |\n",
    "| **LightGBM** | Speed + accuracy |  |  | Medium |\n",
    "| **LSTM** | Time series, sequences |  |  | Large |\n",
    "| **ASTGCN** | Graph + time series |  |  | Large + Graph |\n",
    "\n",
    "### Recommendations:\n",
    "- **For production**: Use XGBoost or LightGBM (best balance)\n",
    "- **For research**: Try LSTM with more data\n",
    "- **For real-time**: Use LightGBM (fastest)\n",
    "- **For baseline**: Start with Ridge/Random Forest"
   ]
  }
 ],
 "metadata": {
  "kernelspec": {
   "display_name": "dsp",
   "language": "python",
   "name": "python3"
  },
  "language_info": {
   "codemirror_mode": {
    "name": "ipython",
    "version": 3
   },
   "file_extension": ".py",
   "mimetype": "text/x-python",
   "name": "python",
   "nbconvert_exporter": "python",
   "pygments_lexer": "ipython3",
   "version": "3.10.18"
  }
 },
 "nbformat": 4,
 "nbformat_minor": 5
}
