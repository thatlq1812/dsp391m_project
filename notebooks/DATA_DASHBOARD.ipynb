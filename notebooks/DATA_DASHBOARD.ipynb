{
 "cells": [
  {
   "cell_type": "markdown",
   "id": "c201dfd2",
   "metadata": {},
   "source": [
    "# Traffic Data Visualization Dashboard\n",
    "\n",
    "**Maintainer:** THAT Le Quang (Xiel)  \n",
    "**Email:** fxlqthat@gmail.com  \n",
    "**Version:** 1.0  \n",
    "**Created:** October 27, 2025\n",
    "\n",
    "---\n",
    "\n",
    "Interactive dashboard for exploring collected traffic data from GCP.\n",
    "\n",
    "## Features\n",
    "\n",
    "- 📁 Auto-select latest data folder or choose manually\n",
    "- 📊 Display comprehensive data statistics\n",
    "- 🗺️ Visualize traffic on geographic maps\n",
    "- 📈 Analyze temporal patterns and trends\n",
    "- Validate data quality and completeness"
   ]
  },
  {
   "cell_type": "markdown",
   "id": "466274b2",
   "metadata": {},
   "source": [
    "## 1. Setup and Imports"
   ]
  },
  {
   "cell_type": "code",
   "execution_count": 1,
   "id": "0bd929de",
   "metadata": {},
   "outputs": [
    {
     "name": "stdout",
     "output_type": "stream",
     "text": [
      "All imports successful!\n"
     ]
    }
   ],
   "source": [
    "# Standard library imports\n",
    "import json\n",
    "import os\n",
    "from pathlib import Path\n",
    "from datetime import datetime\n",
    "from typing import Dict, List, Optional\n",
    "\n",
    "# Data processing\n",
    "import pandas as pd\n",
    "import numpy as np\n",
    "\n",
    "# Visualization\n",
    "import matplotlib.pyplot as plt\n",
    "import seaborn as sns\n",
    "import plotly.express as px\n",
    "import plotly.graph_objects as go\n",
    "from plotly.subplots import make_subplots\n",
    "\n",
    "# Set style\n",
    "plt.style.use('seaborn-v0_8-darkgrid')\n",
    "sns.set_palette('husl')\n",
    "\n",
    "# Configure display\n",
    "pd.set_option('display.max_columns', None)\n",
    "pd.set_option('display.max_rows', 100)\n",
    "pd.set_option('display.width', None)\n",
    "\n",
    "print(\"All imports successful!\")"
   ]
  },
  {
   "cell_type": "markdown",
   "id": "4d9914a1",
   "metadata": {},
   "source": [
    "## 2. Data Folder Selection"
   ]
  },
  {
   "cell_type": "code",
   "execution_count": 2,
   "id": "4e7b866e",
   "metadata": {},
   "outputs": [
    {
     "name": "stdout",
     "output_type": "stream",
     "text": [
      "📁 Found 3 download folder(s):\n",
      "  1. download_20251027_185415 (4.6 MB)\n",
      "  2. download_20251027_181522 (4.5 MB)\n",
      "  2. download_20251027_181522 (4.5 MB)\n",
      "  3. download_20251026_210927 (0.6 MB)\n",
      "  3. download_20251026_210927 (0.6 MB)\n"
     ]
    }
   ],
   "source": [
    "# Project root\n",
    "PROJECT_ROOT = Path.cwd().parent if Path.cwd().name == 'notebooks' else Path.cwd()\n",
    "DATA_DIR = PROJECT_ROOT / 'data' / 'downloads'\n",
    "\n",
    "# Find all download folders\n",
    "download_folders = sorted([f for f in DATA_DIR.iterdir() if f.is_dir() and f.name.startswith('download_')], \n",
    "                          reverse=True)\n",
    "\n",
    "if not download_folders:\n",
    "    print(\"❌ No download folders found in data/downloads/\")\n",
    "    print(\"Please run: bash scripts/data_management/download_data_compressed.sh\")\n",
    "    raise FileNotFoundError(\"No data folders available\")\n",
    "\n",
    "print(f\"📁 Found {len(download_folders)} download folder(s):\")\n",
    "for i, folder in enumerate(download_folders[:5], 1):\n",
    "    # Get folder size\n",
    "    size_mb = sum(f.stat().st_size for f in folder.rglob('*') if f.is_file()) / 1024 / 1024\n",
    "    print(f\"  {i}. {folder.name} ({size_mb:.1f} MB)\")\n",
    "\n",
    "if len(download_folders) > 5:\n",
    "    print(f\"  ... and {len(download_folders) - 5} more\")"
   ]
  },
  {
   "cell_type": "code",
   "execution_count": 3,
   "id": "b21baa4f",
   "metadata": {},
   "outputs": [
    {
     "name": "stdout",
     "output_type": "stream",
     "text": [
      "\n",
      "Selected: download_20251027_185415\n",
      "   Path: d:\\UNI\\DSP391m\\project\\data\\downloads\\download_20251027_185415\n",
      "\n",
      "📂 Data structure:\n",
      "   📁 archive/\n",
      "   📄 edges.json (0.0 KB)\n",
      "   📁 images/\n",
      "   📁 node/\n",
      "   📄 nodes.json (21.5 KB)\n",
      "   📁 processed/\n",
      "   📄 quality_report.json (0.6 KB)\n",
      "   📄 statistics.json (0.2 KB)\n",
      "   📄 traffic_edges.json (33.6 KB)\n",
      "   📄 weather_snapshot.json (8.9 KB)\n"
     ]
    }
   ],
   "source": [
    "# Select data folder (default to latest)\n",
    "SELECTED_FOLDER_INDEX = 0  # Change this to select different folder (0 = latest)\n",
    "\n",
    "selected_folder = download_folders[SELECTED_FOLDER_INDEX]\n",
    "print(f\"\\nSelected: {selected_folder.name}\")\n",
    "print(f\"   Path: {selected_folder}\")\n",
    "\n",
    "# Check folder structure\n",
    "data_subdir = selected_folder / 'data'\n",
    "if data_subdir.exists():\n",
    "    print(f\"\\n📂 Data structure:\")\n",
    "    for item in sorted(data_subdir.iterdir())[:10]:\n",
    "        if item.is_dir():\n",
    "            print(f\"   📁 {item.name}/\")\n",
    "        else:\n",
    "            size_kb = item.stat().st_size / 1024\n",
    "            print(f\"   📄 {item.name} ({size_kb:.1f} KB)\")"
   ]
  },
  {
   "cell_type": "markdown",
   "id": "53df7cac",
   "metadata": {},
   "source": [
    "## 3. Load and Validate Data"
   ]
  },
  {
   "cell_type": "code",
   "execution_count": 4,
   "id": "178a26c3",
   "metadata": {},
   "outputs": [
    {
     "name": "stdout",
     "output_type": "stream",
     "text": [
      "\n",
      "🔍 Found 100 collection run(s)\n",
      "\n",
      "Latest 10 runs:\n",
      "  1. 20251027113504 - 2025-10-27 11:35:04\n",
      "  2. 20251027113420 - 2025-10-27 11:34:20\n",
      "  3. 20251027110416 - 2025-10-27 11:04:16\n",
      "  4. 20251027103413 - 2025-10-27 10:34:13\n",
      "  5. 20251027100409 - 2025-10-27 10:04:09\n",
      "  6. 20251027093406 - 2025-10-27 09:34:06\n",
      "  7. 20251027090402 - 2025-10-27 09:04:02\n",
      "  8. 20251027083359 - 2025-10-27 08:33:59\n",
      "  9. 20251027080356 - 2025-10-27 08:03:56\n",
      "  10. 20251027073352 - 2025-10-27 07:33:52\n"
     ]
    }
   ],
   "source": [
    "def load_json_file(filepath: Path) -> Optional[Dict]:\n",
    "    \"\"\"Load JSON file safely.\"\"\"\n",
    "    try:\n",
    "        with open(filepath, 'r', encoding='utf-8') as f:\n",
    "            return json.load(f)\n",
    "    except Exception as e:\n",
    "        print(f\"⚠️ Error loading {filepath.name}: {e}\")\n",
    "        return None\n",
    "\n",
    "def find_collection_runs(data_dir: Path) -> List[Path]:\n",
    "    \"\"\"Find all collection run directories.\"\"\"\n",
    "    node_dir = data_dir / 'node'\n",
    "    if not node_dir.exists():\n",
    "        return []\n",
    "    return sorted([d for d in node_dir.iterdir() if d.is_dir()], reverse=True)\n",
    "\n",
    "# Find all runs\n",
    "runs = find_collection_runs(data_subdir)\n",
    "print(f\"\\n🔍 Found {len(runs)} collection run(s)\")\n",
    "\n",
    "if runs:\n",
    "    print(f\"\\nLatest 10 runs:\")\n",
    "    for i, run in enumerate(runs[:10], 1):\n",
    "        # Parse timestamp from folder name\n",
    "        try:\n",
    "            ts = datetime.strptime(run.name, '%Y%m%d%H%M%S')\n",
    "            print(f\"  {i}. {run.name} - {ts.strftime('%Y-%m-%d %H:%M:%S')}\")\n",
    "        except:\n",
    "            print(f\"  {i}. {run.name}\")"
   ]
  },
  {
   "cell_type": "code",
   "execution_count": 5,
   "id": "debffdf8",
   "metadata": {},
   "outputs": [
    {
     "name": "stdout",
     "output_type": "stream",
     "text": [
      "\n",
      "📥 Loading data from: 20251027113504\n",
      "\n",
      "Data loaded:\n",
      "   Manifest: ✓\n",
      "   Nodes: 40\n",
      "   Edges: 0\n",
      "   Traffic (Google): 120\n",
      "   Traffic (Mock): 0\n",
      "   Weather: ✓\n"
     ]
    }
   ],
   "source": [
    "# Load data from latest run\n",
    "if not runs:\n",
    "    print(\"❌ No collection runs found!\")\n",
    "else:\n",
    "    latest_run = runs[0]\n",
    "    print(f\"\\n📥 Loading data from: {latest_run.name}\")\n",
    "    \n",
    "    # Load manifest\n",
    "    manifest = load_json_file(latest_run / 'manifest.json')\n",
    "    \n",
    "    # Load collectors data\n",
    "    collectors_dir = latest_run / 'collectors'\n",
    "    \n",
    "    # Overpass data (nodes and edges)\n",
    "    overpass_dir = collectors_dir / 'overpass'\n",
    "    nodes = load_json_file(overpass_dir / 'nodes.json') if overpass_dir.exists() else None\n",
    "    edges = load_json_file(overpass_dir / 'edges.json') if overpass_dir.exists() else None\n",
    "    \n",
    "    # Traffic data\n",
    "    google_dir = collectors_dir / 'google'\n",
    "    traffic = load_json_file(google_dir / 'traffic_edges.json') if google_dir.exists() else None\n",
    "    \n",
    "    # Mock traffic data\n",
    "    mock_dir = collectors_dir / 'mock'\n",
    "    mock_traffic = load_json_file(mock_dir / 'traffic_snapshot_normalized.json') if mock_dir.exists() else None\n",
    "    \n",
    "    # Weather data\n",
    "    weather_dir = collectors_dir / 'open_meteo'\n",
    "    weather = load_json_file(weather_dir / 'weather_snapshot.json') if weather_dir.exists() else None\n",
    "    \n",
    "    print(\"\\nData loaded:\")\n",
    "    print(f\"   Manifest: {'✓' if manifest else '✗'}\")\n",
    "    print(f\"   Nodes: {len(nodes) if nodes else 0}\")\n",
    "    print(f\"   Edges: {len(edges) if edges else 0}\")\n",
    "    print(f\"   Traffic (Google): {len(traffic) if traffic else 0}\")\n",
    "    print(f\"   Traffic (Mock): {len(mock_traffic) if mock_traffic else 0}\")\n",
    "    print(f\"   Weather: {'✓' if weather else '✗'}\")"
   ]
  },
  {
   "cell_type": "markdown",
   "id": "6a5fb56c",
   "metadata": {},
   "source": [
    "## 4. Data Statistics and Summary"
   ]
  },
  {
   "cell_type": "code",
   "execution_count": 6,
   "id": "13907135",
   "metadata": {},
   "outputs": [
    {
     "name": "stdout",
     "output_type": "stream",
     "text": [
      "📋 Collection Manifest:\n",
      "   Run ID: N/A\n",
      "   Timestamp: 20251027113504\n",
      "   Status: N/A\n",
      "\n",
      "   Collectors:\n"
     ]
    }
   ],
   "source": [
    "# Display manifest information\n",
    "if manifest:\n",
    "    print(\"📋 Collection Manifest:\")\n",
    "    print(f\"   Run ID: {manifest.get('run_id', 'N/A')}\")\n",
    "    print(f\"   Timestamp: {manifest.get('timestamp', 'N/A')}\")\n",
    "    print(f\"   Status: {manifest.get('status', 'N/A')}\")\n",
    "    \n",
    "    collectors = manifest.get('collectors', {})\n",
    "    print(f\"\\n   Collectors:\")\n",
    "    for name, info in collectors.items():\n",
    "        status = info.get('status', 'unknown')\n",
    "        icon = '✅' if status == 'success' else '⚠️'\n",
    "        print(f\"     {icon} {name}: {status}\")"
   ]
  },
  {
   "cell_type": "code",
   "execution_count": 7,
   "id": "0fbd4b96",
   "metadata": {},
   "outputs": [
    {
     "name": "stdout",
     "output_type": "stream",
     "text": [
      "\n",
      "📊 Nodes Summary (40 nodes):\n",
      "\n",
      "Columns: ['node_id', 'lat', 'lon', 'degree', 'importance_score', 'road_type', 'connected_road_types', 'street_names', 'intersection_name', 'way_ids', 'is_major_intersection']\n",
      "\n",
      "Sample data:\n"
     ]
    },
    {
     "data": {
      "text/html": [
       "<div>\n",
       "<style scoped>\n",
       "    .dataframe tbody tr th:only-of-type {\n",
       "        vertical-align: middle;\n",
       "    }\n",
       "\n",
       "    .dataframe tbody tr th {\n",
       "        vertical-align: top;\n",
       "    }\n",
       "\n",
       "    .dataframe thead th {\n",
       "        text-align: right;\n",
       "    }\n",
       "</style>\n",
       "<table border=\"1\" class=\"dataframe\">\n",
       "  <thead>\n",
       "    <tr style=\"text-align: right;\">\n",
       "      <th></th>\n",
       "      <th>node_id</th>\n",
       "      <th>lat</th>\n",
       "      <th>lon</th>\n",
       "      <th>degree</th>\n",
       "      <th>importance_score</th>\n",
       "      <th>road_type</th>\n",
       "      <th>connected_road_types</th>\n",
       "      <th>street_names</th>\n",
       "      <th>intersection_name</th>\n",
       "      <th>way_ids</th>\n",
       "      <th>is_major_intersection</th>\n",
       "    </tr>\n",
       "  </thead>\n",
       "  <tbody>\n",
       "    <tr>\n",
       "      <th>0</th>\n",
       "      <td>node-10.771233-106.693127</td>\n",
       "      <td>10.771233</td>\n",
       "      <td>106.693127</td>\n",
       "      <td>3</td>\n",
       "      <td>19.0</td>\n",
       "      <td>primary</td>\n",
       "      <td>[secondary, primary]</td>\n",
       "      <td>[Ngã sáu Phù Đổng, Nguyễn Trãi]</td>\n",
       "      <td>Ngã sáu Phù Đổng ∩ Nguyễn Trãi</td>\n",
       "      <td>[466200149, 35115101, 1267138239]</td>\n",
       "      <td>True</td>\n",
       "    </tr>\n",
       "    <tr>\n",
       "      <th>1</th>\n",
       "      <td>node-10.764404-106.698972</td>\n",
       "      <td>10.764404</td>\n",
       "      <td>106.698972</td>\n",
       "      <td>4</td>\n",
       "      <td>24.0</td>\n",
       "      <td>trunk</td>\n",
       "      <td>[trunk_link, trunk, primary]</td>\n",
       "      <td>[Đường Võ Văn Kiệt]</td>\n",
       "      <td>Đường Võ Văn Kiệt</td>\n",
       "      <td>[165228008, 165228001, 629904752, 724454974]</td>\n",
       "      <td>True</td>\n",
       "    </tr>\n",
       "    <tr>\n",
       "      <th>2</th>\n",
       "      <td>node-10.767345-106.706097</td>\n",
       "      <td>10.767345</td>\n",
       "      <td>106.706097</td>\n",
       "      <td>3</td>\n",
       "      <td>19.0</td>\n",
       "      <td>primary</td>\n",
       "      <td>[secondary, primary]</td>\n",
       "      <td>[Nguyễn Tất Thành]</td>\n",
       "      <td>Nguyễn Tất Thành</td>\n",
       "      <td>[165367632, 211130577, 718458988]</td>\n",
       "      <td>True</td>\n",
       "    </tr>\n",
       "    <tr>\n",
       "      <th>3</th>\n",
       "      <td>node-10.765854-106.700628</td>\n",
       "      <td>10.765854</td>\n",
       "      <td>106.700628</td>\n",
       "      <td>3</td>\n",
       "      <td>19.0</td>\n",
       "      <td>primary</td>\n",
       "      <td>[secondary, primary]</td>\n",
       "      <td>[Võ Văn Kiệt, Calmette]</td>\n",
       "      <td>Võ Văn Kiệt ∩ Calmette</td>\n",
       "      <td>[724068483, 189027764, 1221898923]</td>\n",
       "      <td>True</td>\n",
       "    </tr>\n",
       "    <tr>\n",
       "      <th>4</th>\n",
       "      <td>node-10.766495-106.701049</td>\n",
       "      <td>10.766495</td>\n",
       "      <td>106.701049</td>\n",
       "      <td>3</td>\n",
       "      <td>21.0</td>\n",
       "      <td>trunk</td>\n",
       "      <td>[trunk, primary]</td>\n",
       "      <td>[Đường Võ Văn Kiệt, Võ Văn Kiệt]</td>\n",
       "      <td>Đường Võ Văn Kiệt ∩ Võ Văn Kiệt</td>\n",
       "      <td>[724064875, 189193717, 621432415]</td>\n",
       "      <td>True</td>\n",
       "    </tr>\n",
       "  </tbody>\n",
       "</table>\n",
       "</div>"
      ],
      "text/plain": [
       "                     node_id        lat         lon  degree  importance_score  \\\n",
       "0  node-10.771233-106.693127  10.771233  106.693127       3              19.0   \n",
       "1  node-10.764404-106.698972  10.764404  106.698972       4              24.0   \n",
       "2  node-10.767345-106.706097  10.767345  106.706097       3              19.0   \n",
       "3  node-10.765854-106.700628  10.765854  106.700628       3              19.0   \n",
       "4  node-10.766495-106.701049  10.766495  106.701049       3              21.0   \n",
       "\n",
       "  road_type          connected_road_types                      street_names  \\\n",
       "0   primary          [secondary, primary]   [Ngã sáu Phù Đổng, Nguyễn Trãi]   \n",
       "1     trunk  [trunk_link, trunk, primary]               [Đường Võ Văn Kiệt]   \n",
       "2   primary          [secondary, primary]                [Nguyễn Tất Thành]   \n",
       "3   primary          [secondary, primary]           [Võ Văn Kiệt, Calmette]   \n",
       "4     trunk              [trunk, primary]  [Đường Võ Văn Kiệt, Võ Văn Kiệt]   \n",
       "\n",
       "                 intersection_name  \\\n",
       "0   Ngã sáu Phù Đổng ∩ Nguyễn Trãi   \n",
       "1                Đường Võ Văn Kiệt   \n",
       "2                 Nguyễn Tất Thành   \n",
       "3           Võ Văn Kiệt ∩ Calmette   \n",
       "4  Đường Võ Văn Kiệt ∩ Võ Văn Kiệt   \n",
       "\n",
       "                                        way_ids  is_major_intersection  \n",
       "0             [466200149, 35115101, 1267138239]                   True  \n",
       "1  [165228008, 165228001, 629904752, 724454974]                   True  \n",
       "2             [165367632, 211130577, 718458988]                   True  \n",
       "3            [724068483, 189027764, 1221898923]                   True  \n",
       "4             [724064875, 189193717, 621432415]                   True  "
      ]
     },
     "metadata": {},
     "output_type": "display_data"
    },
    {
     "name": "stdout",
     "output_type": "stream",
     "text": [
      "\n",
      "🗺️ Geographic Bounds:\n",
      "   Latitude:  10.763673 to 10.781534\n",
      "   Longitude: 106.690539 to 106.707136\n",
      "   Center: (10.770089, 106.698928)\n"
     ]
    }
   ],
   "source": [
    "# Create nodes dataframe\n",
    "if nodes:\n",
    "    nodes_df = pd.DataFrame(nodes)\n",
    "    print(f\"\\n📊 Nodes Summary ({len(nodes_df)} nodes):\")\n",
    "    print(f\"\\nColumns: {list(nodes_df.columns)}\")\n",
    "    print(f\"\\nSample data:\")\n",
    "    display(nodes_df.head())\n",
    "    \n",
    "    # Geographic bounds\n",
    "    if 'lat' in nodes_df.columns and 'lon' in nodes_df.columns:\n",
    "        print(f\"\\n🗺️ Geographic Bounds:\")\n",
    "        print(f\"   Latitude:  {nodes_df['lat'].min():.6f} to {nodes_df['lat'].max():.6f}\")\n",
    "        print(f\"   Longitude: {nodes_df['lon'].min():.6f} to {nodes_df['lon'].max():.6f}\")\n",
    "        print(f\"   Center: ({nodes_df['lat'].mean():.6f}, {nodes_df['lon'].mean():.6f})\")"
   ]
  },
  {
   "cell_type": "code",
   "execution_count": 8,
   "id": "2da41316",
   "metadata": {},
   "outputs": [
    {
     "name": "stdout",
     "output_type": "stream",
     "text": [
      "\n",
      "🚗 Traffic Data Summary (120 edges):\n",
      "\n",
      "Columns: ['node_a_id', 'node_b_id', 'distance_km', 'duration_sec', 'speed_kmh', 'timestamp', 'api_type']\n",
      "\n",
      "Sample data:\n"
     ]
    },
    {
     "data": {
      "text/html": [
       "<div>\n",
       "<style scoped>\n",
       "    .dataframe tbody tr th:only-of-type {\n",
       "        vertical-align: middle;\n",
       "    }\n",
       "\n",
       "    .dataframe tbody tr th {\n",
       "        vertical-align: top;\n",
       "    }\n",
       "\n",
       "    .dataframe thead th {\n",
       "        text-align: right;\n",
       "    }\n",
       "</style>\n",
       "<table border=\"1\" class=\"dataframe\">\n",
       "  <thead>\n",
       "    <tr style=\"text-align: right;\">\n",
       "      <th></th>\n",
       "      <th>node_a_id</th>\n",
       "      <th>node_b_id</th>\n",
       "      <th>distance_km</th>\n",
       "      <th>duration_sec</th>\n",
       "      <th>speed_kmh</th>\n",
       "      <th>timestamp</th>\n",
       "      <th>api_type</th>\n",
       "    </tr>\n",
       "  </thead>\n",
       "  <tbody>\n",
       "    <tr>\n",
       "      <th>0</th>\n",
       "      <td>node-10.766353-106.700978</td>\n",
       "      <td>node-10.765854-106.700628</td>\n",
       "      <td>0.067401</td>\n",
       "      <td>10.695214</td>\n",
       "      <td>22.687222</td>\n",
       "      <td>2025-10-27T11:35:10.297053</td>\n",
       "      <td>mock</td>\n",
       "    </tr>\n",
       "    <tr>\n",
       "      <th>1</th>\n",
       "      <td>node-10.766353-106.700978</td>\n",
       "      <td>node-10.765088-106.699763</td>\n",
       "      <td>0.193457</td>\n",
       "      <td>20.372977</td>\n",
       "      <td>34.184780</td>\n",
       "      <td>2025-10-27T11:35:10.297058</td>\n",
       "      <td>mock</td>\n",
       "    </tr>\n",
       "    <tr>\n",
       "      <th>2</th>\n",
       "      <td>node-10.763793-106.697804</td>\n",
       "      <td>node-10.763673-106.697915</td>\n",
       "      <td>0.018074</td>\n",
       "      <td>1.454975</td>\n",
       "      <td>44.719785</td>\n",
       "      <td>2025-10-27T11:35:10.297062</td>\n",
       "      <td>mock</td>\n",
       "    </tr>\n",
       "    <tr>\n",
       "      <th>3</th>\n",
       "      <td>node-10.763793-106.697804</td>\n",
       "      <td>node-10.763832-106.698113</td>\n",
       "      <td>0.033994</td>\n",
       "      <td>4.319797</td>\n",
       "      <td>28.329643</td>\n",
       "      <td>2025-10-27T11:35:10.297066</td>\n",
       "      <td>mock</td>\n",
       "    </tr>\n",
       "    <tr>\n",
       "      <th>4</th>\n",
       "      <td>node-10.763793-106.697804</td>\n",
       "      <td>node-10.764404-106.698972</td>\n",
       "      <td>0.144550</td>\n",
       "      <td>14.731567</td>\n",
       "      <td>35.324153</td>\n",
       "      <td>2025-10-27T11:35:10.297070</td>\n",
       "      <td>mock</td>\n",
       "    </tr>\n",
       "  </tbody>\n",
       "</table>\n",
       "</div>"
      ],
      "text/plain": [
       "                   node_a_id                  node_b_id  distance_km  \\\n",
       "0  node-10.766353-106.700978  node-10.765854-106.700628     0.067401   \n",
       "1  node-10.766353-106.700978  node-10.765088-106.699763     0.193457   \n",
       "2  node-10.763793-106.697804  node-10.763673-106.697915     0.018074   \n",
       "3  node-10.763793-106.697804  node-10.763832-106.698113     0.033994   \n",
       "4  node-10.763793-106.697804  node-10.764404-106.698972     0.144550   \n",
       "\n",
       "   duration_sec  speed_kmh                   timestamp api_type  \n",
       "0     10.695214  22.687222  2025-10-27T11:35:10.297053     mock  \n",
       "1     20.372977  34.184780  2025-10-27T11:35:10.297058     mock  \n",
       "2      1.454975  44.719785  2025-10-27T11:35:10.297062     mock  \n",
       "3      4.319797  28.329643  2025-10-27T11:35:10.297066     mock  \n",
       "4     14.731567  35.324153  2025-10-27T11:35:10.297070     mock  "
      ]
     },
     "metadata": {},
     "output_type": "display_data"
    },
    {
     "name": "stdout",
     "output_type": "stream",
     "text": [
      "\n",
      "📈 Speed Statistics:\n",
      "count    120.000000\n",
      "mean      28.985725\n",
      "std        8.075075\n",
      "min       15.228248\n",
      "25%       22.674140\n",
      "50%       27.952608\n",
      "75%       36.723888\n",
      "max       44.719785\n",
      "Name: speed_kmh, dtype: float64\n"
     ]
    }
   ],
   "source": [
    "# Traffic data summary\n",
    "traffic_data = traffic or mock_traffic\n",
    "if traffic_data:\n",
    "    traffic_df = pd.DataFrame(traffic_data)\n",
    "    print(f\"\\n🚗 Traffic Data Summary ({len(traffic_df)} edges):\")\n",
    "    print(f\"\\nColumns: {list(traffic_df.columns)}\")\n",
    "    print(f\"\\nSample data:\")\n",
    "    display(traffic_df.head())\n",
    "    \n",
    "    # Speed statistics\n",
    "    if 'speed_kmh' in traffic_df.columns:\n",
    "        print(f\"\\n📈 Speed Statistics:\")\n",
    "        print(traffic_df['speed_kmh'].describe())\n",
    "        \n",
    "    # Duration statistics\n",
    "    if 'duration_minutes' in traffic_df.columns:\n",
    "        print(f\"\\n⏱️ Duration Statistics:\")\n",
    "        print(traffic_df['duration_minutes'].describe())"
   ]
  },
  {
   "cell_type": "code",
   "execution_count": 9,
   "id": "75459328",
   "metadata": {},
   "outputs": [
    {
     "name": "stdout",
     "output_type": "stream",
     "text": [
      "\n",
      "🌤️ Weather Data:\n",
      "   Type: List with 40 items\n",
      "\n",
      "   Sample item:\n",
      "      node_id: node-10.771233-106.693127\n",
      "      lat: 10.7712328\n",
      "      lon: 106.6931266\n",
      "      timestamp: 2025-10-27T11:35:09.059738\n",
      "      temperature_c: 27.4\n",
      "      precipitation_mm: 0.0\n",
      "      wind_speed_kmh: 5.5\n"
     ]
    }
   ],
   "source": [
    "# Weather data summary\n",
    "if weather:\n",
    "    print(f\"\\n🌤️ Weather Data:\")\n",
    "    \n",
    "    # Handle both dict and list formats\n",
    "    if isinstance(weather, dict):\n",
    "        for key, value in weather.items():\n",
    "            if isinstance(value, (int, float, str)):\n",
    "                print(f\"   {key}: {value}\")\n",
    "    elif isinstance(weather, list):\n",
    "        print(f\"   Type: List with {len(weather)} items\")\n",
    "        if len(weather) > 0:\n",
    "            print(f\"\\n   Sample item:\")\n",
    "            sample = weather[0]\n",
    "            if isinstance(sample, dict):\n",
    "                for key, value in sample.items():\n",
    "                    if isinstance(value, (int, float, str)):\n",
    "                        print(f\"      {key}: {value}\")\n",
    "            else:\n",
    "                print(f\"      {sample}\")\n",
    "    else:\n",
    "        print(f\"   Type: {type(weather).__name__}\")\n",
    "        print(f\"   Value: {weather}\")\n"
   ]
  },
  {
   "cell_type": "markdown",
   "id": "f5c2bf06",
   "metadata": {},
   "source": [
    "## 5. Geographic Visualization"
   ]
  },
  {
   "cell_type": "code",
   "execution_count": 10,
   "id": "31c9c9a9",
   "metadata": {},
   "outputs": [
    {
     "name": "stderr",
     "output_type": "stream",
     "text": [
      "C:\\Users\\fxlqt\\AppData\\Local\\Temp\\ipykernel_18800\\975074848.py:3: DeprecationWarning: *scatter_mapbox* is deprecated! Use *scatter_map* instead. Learn more at: https://plotly.com/python/mapbox-to-maplibre/\n",
      "  fig = px.scatter_mapbox(\n"
     ]
    },
    {
     "data": {
      "application/vnd.plotly.v1+json": {
       "config": {
        "plotlyServerURL": "https://plot.ly"
       },
       "data": [
        {
         "hovertemplate": "lat=%{lat}<br>lon=%{lon}<extra></extra>",
         "lat": {
          "bdata": "fDSLBt+KJUD53An2X4clQJOEjmfhiCVAiwrm+R2IJUCoFrYLcoglQMxG5/wUhyVAF/NzQ1OKJUB8jKg/sYwlQJSejmxTiSVAMNwU6kSJJUDvlj860IolQCWFwxxOiiVAmosJeySPJUCsIjcex4olQEPrPIW3iiVA2SPUDKmKJUAOpOYGnoolQHJ3jOGgjyVAaDQDph2QJUDKWMi30oolQLRzmgXaiSVAbn4N0p2JJUBUsCGT54klQF5g+25fiCVAIs2z7Q+HJUC3Q8Ni1IklQB1G92LeiSVA+OqZFNWJJUDoIzoVuowlQJxBMtOsiiVAYS5OIfyIJUAvdxz1xoclQHcm2Y+5hyVAd6YrMwCHJUAgQfFjzIklQEDrK1lfiiVAnyNNF72KJUA/YNSkyoolQHYYk/5eiiVAmnFkLyWQJUA=",
          "dtype": "f8"
         },
         "legendgroup": "",
         "lon": {
          "bdata": "Nr+rL1ysWkBBlHn1u6xaQNvzobAwrVpAvMkUGNesWkDEuHb93axaQDx7eOCtrFpA4Dsgv22sWkCN8WH2MqxaQCLYAoz4rFpA09heC/qsWkBhlizdk6xaQJlk5CxsrFpAIKEcu3qsWkDnosYp36xaQJO42P7frFpAyVXRxOCsWkCOHmT+9qxaQKJ8QQuJrFpAgkdl1MasWkAddAmH3qxaQGQVgJB2rFpA5mZudAStWkD30QTlkaxaQMtN1NLcrFpAXGGw0aisWkCyuP/IdKxaQCwq4nSSrFpAeduWEpOsWkAK6M/IMaxaQEERixj2rFpArG8FuTCtWkDBdFq3Qa1aQHvdfenIrFpAxvfFpaqsWkBPFDKhk6xaQEG8CRmjrFpAlPt4Q/WsWkAAPz589KxaQJw7VRmhrFpAU2pAzsWsWkA=",
          "dtype": "f8"
         },
         "marker": {
          "color": "#636efa"
         },
         "mode": "markers",
         "name": "",
         "showlegend": false,
         "subplot": "mapbox",
         "type": "scattermapbox"
        }
       ],
       "layout": {
        "height": 600,
        "legend": {
         "tracegroupgap": 0
        },
        "mapbox": {
         "center": {
          "lat": 10.770089355,
          "lon": 106.69892779499999
         },
         "domain": {
          "x": [
           0,
           1
          ],
          "y": [
           0,
           1
          ]
         },
         "style": "open-street-map",
         "zoom": 12
        },
        "margin": {
         "b": 0,
         "l": 0,
         "r": 0,
         "t": 40
        },
        "template": {
         "data": {
          "bar": [
           {
            "error_x": {
             "color": "#2a3f5f"
            },
            "error_y": {
             "color": "#2a3f5f"
            },
            "marker": {
             "line": {
              "color": "#E5ECF6",
              "width": 0.5
             },
             "pattern": {
              "fillmode": "overlay",
              "size": 10,
              "solidity": 0.2
             }
            },
            "type": "bar"
           }
          ],
          "barpolar": [
           {
            "marker": {
             "line": {
              "color": "#E5ECF6",
              "width": 0.5
             },
             "pattern": {
              "fillmode": "overlay",
              "size": 10,
              "solidity": 0.2
             }
            },
            "type": "barpolar"
           }
          ],
          "carpet": [
           {
            "aaxis": {
             "endlinecolor": "#2a3f5f",
             "gridcolor": "white",
             "linecolor": "white",
             "minorgridcolor": "white",
             "startlinecolor": "#2a3f5f"
            },
            "baxis": {
             "endlinecolor": "#2a3f5f",
             "gridcolor": "white",
             "linecolor": "white",
             "minorgridcolor": "white",
             "startlinecolor": "#2a3f5f"
            },
            "type": "carpet"
           }
          ],
          "choropleth": [
           {
            "colorbar": {
             "outlinewidth": 0,
             "ticks": ""
            },
            "type": "choropleth"
           }
          ],
          "contour": [
           {
            "colorbar": {
             "outlinewidth": 0,
             "ticks": ""
            },
            "colorscale": [
             [
              0,
              "#0d0887"
             ],
             [
              0.1111111111111111,
              "#46039f"
             ],
             [
              0.2222222222222222,
              "#7201a8"
             ],
             [
              0.3333333333333333,
              "#9c179e"
             ],
             [
              0.4444444444444444,
              "#bd3786"
             ],
             [
              0.5555555555555556,
              "#d8576b"
             ],
             [
              0.6666666666666666,
              "#ed7953"
             ],
             [
              0.7777777777777778,
              "#fb9f3a"
             ],
             [
              0.8888888888888888,
              "#fdca26"
             ],
             [
              1,
              "#f0f921"
             ]
            ],
            "type": "contour"
           }
          ],
          "contourcarpet": [
           {
            "colorbar": {
             "outlinewidth": 0,
             "ticks": ""
            },
            "type": "contourcarpet"
           }
          ],
          "heatmap": [
           {
            "colorbar": {
             "outlinewidth": 0,
             "ticks": ""
            },
            "colorscale": [
             [
              0,
              "#0d0887"
             ],
             [
              0.1111111111111111,
              "#46039f"
             ],
             [
              0.2222222222222222,
              "#7201a8"
             ],
             [
              0.3333333333333333,
              "#9c179e"
             ],
             [
              0.4444444444444444,
              "#bd3786"
             ],
             [
              0.5555555555555556,
              "#d8576b"
             ],
             [
              0.6666666666666666,
              "#ed7953"
             ],
             [
              0.7777777777777778,
              "#fb9f3a"
             ],
             [
              0.8888888888888888,
              "#fdca26"
             ],
             [
              1,
              "#f0f921"
             ]
            ],
            "type": "heatmap"
           }
          ],
          "histogram": [
           {
            "marker": {
             "pattern": {
              "fillmode": "overlay",
              "size": 10,
              "solidity": 0.2
             }
            },
            "type": "histogram"
           }
          ],
          "histogram2d": [
           {
            "colorbar": {
             "outlinewidth": 0,
             "ticks": ""
            },
            "colorscale": [
             [
              0,
              "#0d0887"
             ],
             [
              0.1111111111111111,
              "#46039f"
             ],
             [
              0.2222222222222222,
              "#7201a8"
             ],
             [
              0.3333333333333333,
              "#9c179e"
             ],
             [
              0.4444444444444444,
              "#bd3786"
             ],
             [
              0.5555555555555556,
              "#d8576b"
             ],
             [
              0.6666666666666666,
              "#ed7953"
             ],
             [
              0.7777777777777778,
              "#fb9f3a"
             ],
             [
              0.8888888888888888,
              "#fdca26"
             ],
             [
              1,
              "#f0f921"
             ]
            ],
            "type": "histogram2d"
           }
          ],
          "histogram2dcontour": [
           {
            "colorbar": {
             "outlinewidth": 0,
             "ticks": ""
            },
            "colorscale": [
             [
              0,
              "#0d0887"
             ],
             [
              0.1111111111111111,
              "#46039f"
             ],
             [
              0.2222222222222222,
              "#7201a8"
             ],
             [
              0.3333333333333333,
              "#9c179e"
             ],
             [
              0.4444444444444444,
              "#bd3786"
             ],
             [
              0.5555555555555556,
              "#d8576b"
             ],
             [
              0.6666666666666666,
              "#ed7953"
             ],
             [
              0.7777777777777778,
              "#fb9f3a"
             ],
             [
              0.8888888888888888,
              "#fdca26"
             ],
             [
              1,
              "#f0f921"
             ]
            ],
            "type": "histogram2dcontour"
           }
          ],
          "mesh3d": [
           {
            "colorbar": {
             "outlinewidth": 0,
             "ticks": ""
            },
            "type": "mesh3d"
           }
          ],
          "parcoords": [
           {
            "line": {
             "colorbar": {
              "outlinewidth": 0,
              "ticks": ""
             }
            },
            "type": "parcoords"
           }
          ],
          "pie": [
           {
            "automargin": true,
            "type": "pie"
           }
          ],
          "scatter": [
           {
            "fillpattern": {
             "fillmode": "overlay",
             "size": 10,
             "solidity": 0.2
            },
            "type": "scatter"
           }
          ],
          "scatter3d": [
           {
            "line": {
             "colorbar": {
              "outlinewidth": 0,
              "ticks": ""
             }
            },
            "marker": {
             "colorbar": {
              "outlinewidth": 0,
              "ticks": ""
             }
            },
            "type": "scatter3d"
           }
          ],
          "scattercarpet": [
           {
            "marker": {
             "colorbar": {
              "outlinewidth": 0,
              "ticks": ""
             }
            },
            "type": "scattercarpet"
           }
          ],
          "scattergeo": [
           {
            "marker": {
             "colorbar": {
              "outlinewidth": 0,
              "ticks": ""
             }
            },
            "type": "scattergeo"
           }
          ],
          "scattergl": [
           {
            "marker": {
             "colorbar": {
              "outlinewidth": 0,
              "ticks": ""
             }
            },
            "type": "scattergl"
           }
          ],
          "scattermap": [
           {
            "marker": {
             "colorbar": {
              "outlinewidth": 0,
              "ticks": ""
             }
            },
            "type": "scattermap"
           }
          ],
          "scattermapbox": [
           {
            "marker": {
             "colorbar": {
              "outlinewidth": 0,
              "ticks": ""
             }
            },
            "type": "scattermapbox"
           }
          ],
          "scatterpolar": [
           {
            "marker": {
             "colorbar": {
              "outlinewidth": 0,
              "ticks": ""
             }
            },
            "type": "scatterpolar"
           }
          ],
          "scatterpolargl": [
           {
            "marker": {
             "colorbar": {
              "outlinewidth": 0,
              "ticks": ""
             }
            },
            "type": "scatterpolargl"
           }
          ],
          "scatterternary": [
           {
            "marker": {
             "colorbar": {
              "outlinewidth": 0,
              "ticks": ""
             }
            },
            "type": "scatterternary"
           }
          ],
          "surface": [
           {
            "colorbar": {
             "outlinewidth": 0,
             "ticks": ""
            },
            "colorscale": [
             [
              0,
              "#0d0887"
             ],
             [
              0.1111111111111111,
              "#46039f"
             ],
             [
              0.2222222222222222,
              "#7201a8"
             ],
             [
              0.3333333333333333,
              "#9c179e"
             ],
             [
              0.4444444444444444,
              "#bd3786"
             ],
             [
              0.5555555555555556,
              "#d8576b"
             ],
             [
              0.6666666666666666,
              "#ed7953"
             ],
             [
              0.7777777777777778,
              "#fb9f3a"
             ],
             [
              0.8888888888888888,
              "#fdca26"
             ],
             [
              1,
              "#f0f921"
             ]
            ],
            "type": "surface"
           }
          ],
          "table": [
           {
            "cells": {
             "fill": {
              "color": "#EBF0F8"
             },
             "line": {
              "color": "white"
             }
            },
            "header": {
             "fill": {
              "color": "#C8D4E3"
             },
             "line": {
              "color": "white"
             }
            },
            "type": "table"
           }
          ]
         },
         "layout": {
          "annotationdefaults": {
           "arrowcolor": "#2a3f5f",
           "arrowhead": 0,
           "arrowwidth": 1
          },
          "autotypenumbers": "strict",
          "coloraxis": {
           "colorbar": {
            "outlinewidth": 0,
            "ticks": ""
           }
          },
          "colorscale": {
           "diverging": [
            [
             0,
             "#8e0152"
            ],
            [
             0.1,
             "#c51b7d"
            ],
            [
             0.2,
             "#de77ae"
            ],
            [
             0.3,
             "#f1b6da"
            ],
            [
             0.4,
             "#fde0ef"
            ],
            [
             0.5,
             "#f7f7f7"
            ],
            [
             0.6,
             "#e6f5d0"
            ],
            [
             0.7,
             "#b8e186"
            ],
            [
             0.8,
             "#7fbc41"
            ],
            [
             0.9,
             "#4d9221"
            ],
            [
             1,
             "#276419"
            ]
           ],
           "sequential": [
            [
             0,
             "#0d0887"
            ],
            [
             0.1111111111111111,
             "#46039f"
            ],
            [
             0.2222222222222222,
             "#7201a8"
            ],
            [
             0.3333333333333333,
             "#9c179e"
            ],
            [
             0.4444444444444444,
             "#bd3786"
            ],
            [
             0.5555555555555556,
             "#d8576b"
            ],
            [
             0.6666666666666666,
             "#ed7953"
            ],
            [
             0.7777777777777778,
             "#fb9f3a"
            ],
            [
             0.8888888888888888,
             "#fdca26"
            ],
            [
             1,
             "#f0f921"
            ]
           ],
           "sequentialminus": [
            [
             0,
             "#0d0887"
            ],
            [
             0.1111111111111111,
             "#46039f"
            ],
            [
             0.2222222222222222,
             "#7201a8"
            ],
            [
             0.3333333333333333,
             "#9c179e"
            ],
            [
             0.4444444444444444,
             "#bd3786"
            ],
            [
             0.5555555555555556,
             "#d8576b"
            ],
            [
             0.6666666666666666,
             "#ed7953"
            ],
            [
             0.7777777777777778,
             "#fb9f3a"
            ],
            [
             0.8888888888888888,
             "#fdca26"
            ],
            [
             1,
             "#f0f921"
            ]
           ]
          },
          "colorway": [
           "#636efa",
           "#EF553B",
           "#00cc96",
           "#ab63fa",
           "#FFA15A",
           "#19d3f3",
           "#FF6692",
           "#B6E880",
           "#FF97FF",
           "#FECB52"
          ],
          "font": {
           "color": "#2a3f5f"
          },
          "geo": {
           "bgcolor": "white",
           "lakecolor": "white",
           "landcolor": "#E5ECF6",
           "showlakes": true,
           "showland": true,
           "subunitcolor": "white"
          },
          "hoverlabel": {
           "align": "left"
          },
          "hovermode": "closest",
          "mapbox": {
           "style": "light"
          },
          "paper_bgcolor": "white",
          "plot_bgcolor": "#E5ECF6",
          "polar": {
           "angularaxis": {
            "gridcolor": "white",
            "linecolor": "white",
            "ticks": ""
           },
           "bgcolor": "#E5ECF6",
           "radialaxis": {
            "gridcolor": "white",
            "linecolor": "white",
            "ticks": ""
           }
          },
          "scene": {
           "xaxis": {
            "backgroundcolor": "#E5ECF6",
            "gridcolor": "white",
            "gridwidth": 2,
            "linecolor": "white",
            "showbackground": true,
            "ticks": "",
            "zerolinecolor": "white"
           },
           "yaxis": {
            "backgroundcolor": "#E5ECF6",
            "gridcolor": "white",
            "gridwidth": 2,
            "linecolor": "white",
            "showbackground": true,
            "ticks": "",
            "zerolinecolor": "white"
           },
           "zaxis": {
            "backgroundcolor": "#E5ECF6",
            "gridcolor": "white",
            "gridwidth": 2,
            "linecolor": "white",
            "showbackground": true,
            "ticks": "",
            "zerolinecolor": "white"
           }
          },
          "shapedefaults": {
           "line": {
            "color": "#2a3f5f"
           }
          },
          "ternary": {
           "aaxis": {
            "gridcolor": "white",
            "linecolor": "white",
            "ticks": ""
           },
           "baxis": {
            "gridcolor": "white",
            "linecolor": "white",
            "ticks": ""
           },
           "bgcolor": "#E5ECF6",
           "caxis": {
            "gridcolor": "white",
            "linecolor": "white",
            "ticks": ""
           }
          },
          "title": {
           "x": 0.05
          },
          "xaxis": {
           "automargin": true,
           "gridcolor": "white",
           "linecolor": "white",
           "ticks": "",
           "title": {
            "standoff": 15
           },
           "zerolinecolor": "white",
           "zerolinewidth": 2
          },
          "yaxis": {
           "automargin": true,
           "gridcolor": "white",
           "linecolor": "white",
           "ticks": "",
           "title": {
            "standoff": 15
           },
           "zerolinecolor": "white",
           "zerolinewidth": 2
          }
         }
        },
        "title": {
         "text": "Traffic Monitoring Nodes"
        }
       }
      }
     },
     "metadata": {},
     "output_type": "display_data"
    }
   ],
   "source": [
    "# Plot nodes on map\n",
    "if nodes and 'lat' in nodes_df.columns and 'lon' in nodes_df.columns:\n",
    "    fig = px.scatter_mapbox(\n",
    "        nodes_df,\n",
    "        lat='lat',\n",
    "        lon='lon',\n",
    "        hover_name='id' if 'id' in nodes_df.columns else None,\n",
    "        zoom=12,\n",
    "        height=600,\n",
    "        title='Traffic Monitoring Nodes'\n",
    "    )\n",
    "    \n",
    "    fig.update_layout(\n",
    "        mapbox_style='open-street-map',\n",
    "        margin={'r': 0, 't': 40, 'l': 0, 'b': 0}\n",
    "    )\n",
    "    \n",
    "    fig.show()\n",
    "else:\n",
    "    print(\"⚠️ No geographic data available for nodes\")"
   ]
  },
  {
   "cell_type": "markdown",
   "id": "584dcda3",
   "metadata": {},
   "source": [
    "## 6. Traffic Analysis"
   ]
  },
  {
   "cell_type": "code",
   "execution_count": 11,
   "id": "20b0c676",
   "metadata": {},
   "outputs": [
    {
     "data": {
      "application/vnd.plotly.v1+json": {
       "config": {
        "plotlyServerURL": "https://plot.ly"
       },
       "data": [
        {
         "bingroup": "x",
         "hovertemplate": "Speed (km/h)=%{x}<br>count=%{y}<extra></extra>",
         "legendgroup": "",
         "marker": {
          "color": "#636efa",
          "pattern": {
           "shape": ""
          }
         },
         "name": "",
         "nbinsx": 30,
         "orientation": "v",
         "showlegend": false,
         "type": "histogram",
         "x": {
          "bdata": "ynt+wO2vNkAdQNTfphdBQDvjG+khXEZALSf6dWNUPEAkqHjcfalBQL4q7XJ/kTZAp0kSkeUyNEDOvB3QmmhCQI/lx/v0ZT9A8/z7hRfENkAw3VU4sJkzQGfJHJVjEz9AdC06a6QvOUDjaGVWBKYyQJbRFGsizDtA3ZNo9q5BO0AgFF3gi5ZFQMpBU7AaXzJAifh0D6cuQUB6QFQdZj1FQMS6lug2rjJAs7JVpOEoQEBchn5N6mI+QDXhXyb/Y0RAHduXMNkxMUD8MJxD9ktEQE0v8UzNajxAI/1sW2GjQEADxMn41o08QGP360144i9AiaryRz5mREB2E2d0U0U6QGCNrWBCSDdArEW0S5OxOkBL0ZlV6A48QKDORDopZjVA5Rua3qxYQkDi5xq0MS86QHMTVzE890NA48BY12DyQEAnutwDDGhDQBhBJFBBLzdAciwmcYNiM0A15E/b3HQuQNpuWorw2zlAHJ++XvU5QkD/TrboQEhDQBAdbogTW0VAMj7no4HtO0DYW3QYseE6QMMZLj902T5AM8fyaZ0kMEBpzjWc6QhDQBCWbVi73EJAefIgEyd/M0DWTrZYSscxQJO1fC96G0VAI95ZZVOZN0CLCMEopgFDQPcOl0wYs0JAkQYzT0RqOEBC88pkiKI2QBDZt+2OSz5A9n6TBM+VQkA/QKPmo685QGZ34F2TPUFAQhtybp7CMUCmo9Ukp1I1QECBkuVEFkNAaTO6e060QkCMvTGmmIE6QKjba5lM7jdABhgtfGpJRkBsziHw/0VAQN46sD9XkUBAJib1349COkAEUbfft3hDQPBMRnDIXDdA6GCSapxmQ0AHImKujc48QA+3uFlKFkFA7bUWCFsxPED5kxWS6F1DQL0zE0DoFTdAb6KwuQumQkCUroXWsVhBQBuqy1xyXzVACslPnl7INEDV2tA56kMyQMzNeI6QljFAuEUhu9+TMkCItLt/eBtAQOyioRCAIkVAzkr2v4L5REBcINi9L5Y3QGzRwW+GfzdAW3YmjvBENEBtlkHi3js+QK6mHqg6+jtA9gpladqMOkCr+jvrYnU6QJ4jERiwlzBAuQ3af+nXQEBW/62AN2tBQBuhvZNTpzNARcczwF6CRECvrUptDM45QML/YzCESTZAMRmt1hPvMECXIEV/jBZAQC8lpfIqp0JAEfwW14hzMUAYtn9WYPBCQBIzTzTC5zVAg1pWkK3RQkARWZsqolY4QPjgsiaMmi5AuJ+A2hzOOUCEj9dpOTs7QN0ofRmT2zdA",
          "dtype": "f8"
         },
         "xaxis": "x",
         "yaxis": "y"
        }
       ],
       "layout": {
        "barmode": "relative",
        "legend": {
         "tracegroupgap": 0
        },
        "template": {
         "data": {
          "bar": [
           {
            "error_x": {
             "color": "#2a3f5f"
            },
            "error_y": {
             "color": "#2a3f5f"
            },
            "marker": {
             "line": {
              "color": "#E5ECF6",
              "width": 0.5
             },
             "pattern": {
              "fillmode": "overlay",
              "size": 10,
              "solidity": 0.2
             }
            },
            "type": "bar"
           }
          ],
          "barpolar": [
           {
            "marker": {
             "line": {
              "color": "#E5ECF6",
              "width": 0.5
             },
             "pattern": {
              "fillmode": "overlay",
              "size": 10,
              "solidity": 0.2
             }
            },
            "type": "barpolar"
           }
          ],
          "carpet": [
           {
            "aaxis": {
             "endlinecolor": "#2a3f5f",
             "gridcolor": "white",
             "linecolor": "white",
             "minorgridcolor": "white",
             "startlinecolor": "#2a3f5f"
            },
            "baxis": {
             "endlinecolor": "#2a3f5f",
             "gridcolor": "white",
             "linecolor": "white",
             "minorgridcolor": "white",
             "startlinecolor": "#2a3f5f"
            },
            "type": "carpet"
           }
          ],
          "choropleth": [
           {
            "colorbar": {
             "outlinewidth": 0,
             "ticks": ""
            },
            "type": "choropleth"
           }
          ],
          "contour": [
           {
            "colorbar": {
             "outlinewidth": 0,
             "ticks": ""
            },
            "colorscale": [
             [
              0,
              "#0d0887"
             ],
             [
              0.1111111111111111,
              "#46039f"
             ],
             [
              0.2222222222222222,
              "#7201a8"
             ],
             [
              0.3333333333333333,
              "#9c179e"
             ],
             [
              0.4444444444444444,
              "#bd3786"
             ],
             [
              0.5555555555555556,
              "#d8576b"
             ],
             [
              0.6666666666666666,
              "#ed7953"
             ],
             [
              0.7777777777777778,
              "#fb9f3a"
             ],
             [
              0.8888888888888888,
              "#fdca26"
             ],
             [
              1,
              "#f0f921"
             ]
            ],
            "type": "contour"
           }
          ],
          "contourcarpet": [
           {
            "colorbar": {
             "outlinewidth": 0,
             "ticks": ""
            },
            "type": "contourcarpet"
           }
          ],
          "heatmap": [
           {
            "colorbar": {
             "outlinewidth": 0,
             "ticks": ""
            },
            "colorscale": [
             [
              0,
              "#0d0887"
             ],
             [
              0.1111111111111111,
              "#46039f"
             ],
             [
              0.2222222222222222,
              "#7201a8"
             ],
             [
              0.3333333333333333,
              "#9c179e"
             ],
             [
              0.4444444444444444,
              "#bd3786"
             ],
             [
              0.5555555555555556,
              "#d8576b"
             ],
             [
              0.6666666666666666,
              "#ed7953"
             ],
             [
              0.7777777777777778,
              "#fb9f3a"
             ],
             [
              0.8888888888888888,
              "#fdca26"
             ],
             [
              1,
              "#f0f921"
             ]
            ],
            "type": "heatmap"
           }
          ],
          "histogram": [
           {
            "marker": {
             "pattern": {
              "fillmode": "overlay",
              "size": 10,
              "solidity": 0.2
             }
            },
            "type": "histogram"
           }
          ],
          "histogram2d": [
           {
            "colorbar": {
             "outlinewidth": 0,
             "ticks": ""
            },
            "colorscale": [
             [
              0,
              "#0d0887"
             ],
             [
              0.1111111111111111,
              "#46039f"
             ],
             [
              0.2222222222222222,
              "#7201a8"
             ],
             [
              0.3333333333333333,
              "#9c179e"
             ],
             [
              0.4444444444444444,
              "#bd3786"
             ],
             [
              0.5555555555555556,
              "#d8576b"
             ],
             [
              0.6666666666666666,
              "#ed7953"
             ],
             [
              0.7777777777777778,
              "#fb9f3a"
             ],
             [
              0.8888888888888888,
              "#fdca26"
             ],
             [
              1,
              "#f0f921"
             ]
            ],
            "type": "histogram2d"
           }
          ],
          "histogram2dcontour": [
           {
            "colorbar": {
             "outlinewidth": 0,
             "ticks": ""
            },
            "colorscale": [
             [
              0,
              "#0d0887"
             ],
             [
              0.1111111111111111,
              "#46039f"
             ],
             [
              0.2222222222222222,
              "#7201a8"
             ],
             [
              0.3333333333333333,
              "#9c179e"
             ],
             [
              0.4444444444444444,
              "#bd3786"
             ],
             [
              0.5555555555555556,
              "#d8576b"
             ],
             [
              0.6666666666666666,
              "#ed7953"
             ],
             [
              0.7777777777777778,
              "#fb9f3a"
             ],
             [
              0.8888888888888888,
              "#fdca26"
             ],
             [
              1,
              "#f0f921"
             ]
            ],
            "type": "histogram2dcontour"
           }
          ],
          "mesh3d": [
           {
            "colorbar": {
             "outlinewidth": 0,
             "ticks": ""
            },
            "type": "mesh3d"
           }
          ],
          "parcoords": [
           {
            "line": {
             "colorbar": {
              "outlinewidth": 0,
              "ticks": ""
             }
            },
            "type": "parcoords"
           }
          ],
          "pie": [
           {
            "automargin": true,
            "type": "pie"
           }
          ],
          "scatter": [
           {
            "fillpattern": {
             "fillmode": "overlay",
             "size": 10,
             "solidity": 0.2
            },
            "type": "scatter"
           }
          ],
          "scatter3d": [
           {
            "line": {
             "colorbar": {
              "outlinewidth": 0,
              "ticks": ""
             }
            },
            "marker": {
             "colorbar": {
              "outlinewidth": 0,
              "ticks": ""
             }
            },
            "type": "scatter3d"
           }
          ],
          "scattercarpet": [
           {
            "marker": {
             "colorbar": {
              "outlinewidth": 0,
              "ticks": ""
             }
            },
            "type": "scattercarpet"
           }
          ],
          "scattergeo": [
           {
            "marker": {
             "colorbar": {
              "outlinewidth": 0,
              "ticks": ""
             }
            },
            "type": "scattergeo"
           }
          ],
          "scattergl": [
           {
            "marker": {
             "colorbar": {
              "outlinewidth": 0,
              "ticks": ""
             }
            },
            "type": "scattergl"
           }
          ],
          "scattermap": [
           {
            "marker": {
             "colorbar": {
              "outlinewidth": 0,
              "ticks": ""
             }
            },
            "type": "scattermap"
           }
          ],
          "scattermapbox": [
           {
            "marker": {
             "colorbar": {
              "outlinewidth": 0,
              "ticks": ""
             }
            },
            "type": "scattermapbox"
           }
          ],
          "scatterpolar": [
           {
            "marker": {
             "colorbar": {
              "outlinewidth": 0,
              "ticks": ""
             }
            },
            "type": "scatterpolar"
           }
          ],
          "scatterpolargl": [
           {
            "marker": {
             "colorbar": {
              "outlinewidth": 0,
              "ticks": ""
             }
            },
            "type": "scatterpolargl"
           }
          ],
          "scatterternary": [
           {
            "marker": {
             "colorbar": {
              "outlinewidth": 0,
              "ticks": ""
             }
            },
            "type": "scatterternary"
           }
          ],
          "surface": [
           {
            "colorbar": {
             "outlinewidth": 0,
             "ticks": ""
            },
            "colorscale": [
             [
              0,
              "#0d0887"
             ],
             [
              0.1111111111111111,
              "#46039f"
             ],
             [
              0.2222222222222222,
              "#7201a8"
             ],
             [
              0.3333333333333333,
              "#9c179e"
             ],
             [
              0.4444444444444444,
              "#bd3786"
             ],
             [
              0.5555555555555556,
              "#d8576b"
             ],
             [
              0.6666666666666666,
              "#ed7953"
             ],
             [
              0.7777777777777778,
              "#fb9f3a"
             ],
             [
              0.8888888888888888,
              "#fdca26"
             ],
             [
              1,
              "#f0f921"
             ]
            ],
            "type": "surface"
           }
          ],
          "table": [
           {
            "cells": {
             "fill": {
              "color": "#EBF0F8"
             },
             "line": {
              "color": "white"
             }
            },
            "header": {
             "fill": {
              "color": "#C8D4E3"
             },
             "line": {
              "color": "white"
             }
            },
            "type": "table"
           }
          ]
         },
         "layout": {
          "annotationdefaults": {
           "arrowcolor": "#2a3f5f",
           "arrowhead": 0,
           "arrowwidth": 1
          },
          "autotypenumbers": "strict",
          "coloraxis": {
           "colorbar": {
            "outlinewidth": 0,
            "ticks": ""
           }
          },
          "colorscale": {
           "diverging": [
            [
             0,
             "#8e0152"
            ],
            [
             0.1,
             "#c51b7d"
            ],
            [
             0.2,
             "#de77ae"
            ],
            [
             0.3,
             "#f1b6da"
            ],
            [
             0.4,
             "#fde0ef"
            ],
            [
             0.5,
             "#f7f7f7"
            ],
            [
             0.6,
             "#e6f5d0"
            ],
            [
             0.7,
             "#b8e186"
            ],
            [
             0.8,
             "#7fbc41"
            ],
            [
             0.9,
             "#4d9221"
            ],
            [
             1,
             "#276419"
            ]
           ],
           "sequential": [
            [
             0,
             "#0d0887"
            ],
            [
             0.1111111111111111,
             "#46039f"
            ],
            [
             0.2222222222222222,
             "#7201a8"
            ],
            [
             0.3333333333333333,
             "#9c179e"
            ],
            [
             0.4444444444444444,
             "#bd3786"
            ],
            [
             0.5555555555555556,
             "#d8576b"
            ],
            [
             0.6666666666666666,
             "#ed7953"
            ],
            [
             0.7777777777777778,
             "#fb9f3a"
            ],
            [
             0.8888888888888888,
             "#fdca26"
            ],
            [
             1,
             "#f0f921"
            ]
           ],
           "sequentialminus": [
            [
             0,
             "#0d0887"
            ],
            [
             0.1111111111111111,
             "#46039f"
            ],
            [
             0.2222222222222222,
             "#7201a8"
            ],
            [
             0.3333333333333333,
             "#9c179e"
            ],
            [
             0.4444444444444444,
             "#bd3786"
            ],
            [
             0.5555555555555556,
             "#d8576b"
            ],
            [
             0.6666666666666666,
             "#ed7953"
            ],
            [
             0.7777777777777778,
             "#fb9f3a"
            ],
            [
             0.8888888888888888,
             "#fdca26"
            ],
            [
             1,
             "#f0f921"
            ]
           ]
          },
          "colorway": [
           "#636efa",
           "#EF553B",
           "#00cc96",
           "#ab63fa",
           "#FFA15A",
           "#19d3f3",
           "#FF6692",
           "#B6E880",
           "#FF97FF",
           "#FECB52"
          ],
          "font": {
           "color": "#2a3f5f"
          },
          "geo": {
           "bgcolor": "white",
           "lakecolor": "white",
           "landcolor": "#E5ECF6",
           "showlakes": true,
           "showland": true,
           "subunitcolor": "white"
          },
          "hoverlabel": {
           "align": "left"
          },
          "hovermode": "closest",
          "mapbox": {
           "style": "light"
          },
          "paper_bgcolor": "white",
          "plot_bgcolor": "#E5ECF6",
          "polar": {
           "angularaxis": {
            "gridcolor": "white",
            "linecolor": "white",
            "ticks": ""
           },
           "bgcolor": "#E5ECF6",
           "radialaxis": {
            "gridcolor": "white",
            "linecolor": "white",
            "ticks": ""
           }
          },
          "scene": {
           "xaxis": {
            "backgroundcolor": "#E5ECF6",
            "gridcolor": "white",
            "gridwidth": 2,
            "linecolor": "white",
            "showbackground": true,
            "ticks": "",
            "zerolinecolor": "white"
           },
           "yaxis": {
            "backgroundcolor": "#E5ECF6",
            "gridcolor": "white",
            "gridwidth": 2,
            "linecolor": "white",
            "showbackground": true,
            "ticks": "",
            "zerolinecolor": "white"
           },
           "zaxis": {
            "backgroundcolor": "#E5ECF6",
            "gridcolor": "white",
            "gridwidth": 2,
            "linecolor": "white",
            "showbackground": true,
            "ticks": "",
            "zerolinecolor": "white"
           }
          },
          "shapedefaults": {
           "line": {
            "color": "#2a3f5f"
           }
          },
          "ternary": {
           "aaxis": {
            "gridcolor": "white",
            "linecolor": "white",
            "ticks": ""
           },
           "baxis": {
            "gridcolor": "white",
            "linecolor": "white",
            "ticks": ""
           },
           "bgcolor": "#E5ECF6",
           "caxis": {
            "gridcolor": "white",
            "linecolor": "white",
            "ticks": ""
           }
          },
          "title": {
           "x": 0.05
          },
          "xaxis": {
           "automargin": true,
           "gridcolor": "white",
           "linecolor": "white",
           "ticks": "",
           "title": {
            "standoff": 15
           },
           "zerolinecolor": "white",
           "zerolinewidth": 2
          },
          "yaxis": {
           "automargin": true,
           "gridcolor": "white",
           "linecolor": "white",
           "ticks": "",
           "title": {
            "standoff": 15
           },
           "zerolinecolor": "white",
           "zerolinewidth": 2
          }
         }
        },
        "title": {
         "text": "Traffic Speed Distribution"
        },
        "xaxis": {
         "anchor": "y",
         "domain": [
          0,
          1
         ],
         "title": {
          "text": "Speed (km/h)"
         }
        },
        "yaxis": {
         "anchor": "x",
         "domain": [
          0,
          1
         ],
         "title": {
          "text": "count"
         }
        }
       }
      }
     },
     "metadata": {},
     "output_type": "display_data"
    },
    {
     "data": {
      "application/vnd.plotly.v1+json": {
       "config": {
        "plotlyServerURL": "https://plot.ly"
       },
       "data": [
        {
         "alignmentgroup": "True",
         "hovertemplate": "Speed (km/h)=%{y}<extra></extra>",
         "legendgroup": "",
         "marker": {
          "color": "#636efa"
         },
         "name": "",
         "notched": false,
         "offsetgroup": "",
         "orientation": "v",
         "showlegend": false,
         "type": "box",
         "x0": " ",
         "xaxis": "x",
         "y": {
          "bdata": "ynt+wO2vNkAdQNTfphdBQDvjG+khXEZALSf6dWNUPEAkqHjcfalBQL4q7XJ/kTZAp0kSkeUyNEDOvB3QmmhCQI/lx/v0ZT9A8/z7hRfENkAw3VU4sJkzQGfJHJVjEz9AdC06a6QvOUDjaGVWBKYyQJbRFGsizDtA3ZNo9q5BO0AgFF3gi5ZFQMpBU7AaXzJAifh0D6cuQUB6QFQdZj1FQMS6lug2rjJAs7JVpOEoQEBchn5N6mI+QDXhXyb/Y0RAHduXMNkxMUD8MJxD9ktEQE0v8UzNajxAI/1sW2GjQEADxMn41o08QGP360144i9AiaryRz5mREB2E2d0U0U6QGCNrWBCSDdArEW0S5OxOkBL0ZlV6A48QKDORDopZjVA5Rua3qxYQkDi5xq0MS86QHMTVzE890NA48BY12DyQEAnutwDDGhDQBhBJFBBLzdAciwmcYNiM0A15E/b3HQuQNpuWorw2zlAHJ++XvU5QkD/TrboQEhDQBAdbogTW0VAMj7no4HtO0DYW3QYseE6QMMZLj902T5AM8fyaZ0kMEBpzjWc6QhDQBCWbVi73EJAefIgEyd/M0DWTrZYSscxQJO1fC96G0VAI95ZZVOZN0CLCMEopgFDQPcOl0wYs0JAkQYzT0RqOEBC88pkiKI2QBDZt+2OSz5A9n6TBM+VQkA/QKPmo685QGZ34F2TPUFAQhtybp7CMUCmo9Ukp1I1QECBkuVEFkNAaTO6e060QkCMvTGmmIE6QKjba5lM7jdABhgtfGpJRkBsziHw/0VAQN46sD9XkUBAJib1349COkAEUbfft3hDQPBMRnDIXDdA6GCSapxmQ0AHImKujc48QA+3uFlKFkFA7bUWCFsxPED5kxWS6F1DQL0zE0DoFTdAb6KwuQumQkCUroXWsVhBQBuqy1xyXzVACslPnl7INEDV2tA56kMyQMzNeI6QljFAuEUhu9+TMkCItLt/eBtAQOyioRCAIkVAzkr2v4L5REBcINi9L5Y3QGzRwW+GfzdAW3YmjvBENEBtlkHi3js+QK6mHqg6+jtA9gpladqMOkCr+jvrYnU6QJ4jERiwlzBAuQ3af+nXQEBW/62AN2tBQBuhvZNTpzNARcczwF6CRECvrUptDM45QML/YzCESTZAMRmt1hPvMECXIEV/jBZAQC8lpfIqp0JAEfwW14hzMUAYtn9WYPBCQBIzTzTC5zVAg1pWkK3RQkARWZsqolY4QPjgsiaMmi5AuJ+A2hzOOUCEj9dpOTs7QN0ofRmT2zdA",
          "dtype": "f8"
         },
         "y0": " ",
         "yaxis": "y"
        }
       ],
       "layout": {
        "boxmode": "group",
        "legend": {
         "tracegroupgap": 0
        },
        "template": {
         "data": {
          "bar": [
           {
            "error_x": {
             "color": "#2a3f5f"
            },
            "error_y": {
             "color": "#2a3f5f"
            },
            "marker": {
             "line": {
              "color": "#E5ECF6",
              "width": 0.5
             },
             "pattern": {
              "fillmode": "overlay",
              "size": 10,
              "solidity": 0.2
             }
            },
            "type": "bar"
           }
          ],
          "barpolar": [
           {
            "marker": {
             "line": {
              "color": "#E5ECF6",
              "width": 0.5
             },
             "pattern": {
              "fillmode": "overlay",
              "size": 10,
              "solidity": 0.2
             }
            },
            "type": "barpolar"
           }
          ],
          "carpet": [
           {
            "aaxis": {
             "endlinecolor": "#2a3f5f",
             "gridcolor": "white",
             "linecolor": "white",
             "minorgridcolor": "white",
             "startlinecolor": "#2a3f5f"
            },
            "baxis": {
             "endlinecolor": "#2a3f5f",
             "gridcolor": "white",
             "linecolor": "white",
             "minorgridcolor": "white",
             "startlinecolor": "#2a3f5f"
            },
            "type": "carpet"
           }
          ],
          "choropleth": [
           {
            "colorbar": {
             "outlinewidth": 0,
             "ticks": ""
            },
            "type": "choropleth"
           }
          ],
          "contour": [
           {
            "colorbar": {
             "outlinewidth": 0,
             "ticks": ""
            },
            "colorscale": [
             [
              0,
              "#0d0887"
             ],
             [
              0.1111111111111111,
              "#46039f"
             ],
             [
              0.2222222222222222,
              "#7201a8"
             ],
             [
              0.3333333333333333,
              "#9c179e"
             ],
             [
              0.4444444444444444,
              "#bd3786"
             ],
             [
              0.5555555555555556,
              "#d8576b"
             ],
             [
              0.6666666666666666,
              "#ed7953"
             ],
             [
              0.7777777777777778,
              "#fb9f3a"
             ],
             [
              0.8888888888888888,
              "#fdca26"
             ],
             [
              1,
              "#f0f921"
             ]
            ],
            "type": "contour"
           }
          ],
          "contourcarpet": [
           {
            "colorbar": {
             "outlinewidth": 0,
             "ticks": ""
            },
            "type": "contourcarpet"
           }
          ],
          "heatmap": [
           {
            "colorbar": {
             "outlinewidth": 0,
             "ticks": ""
            },
            "colorscale": [
             [
              0,
              "#0d0887"
             ],
             [
              0.1111111111111111,
              "#46039f"
             ],
             [
              0.2222222222222222,
              "#7201a8"
             ],
             [
              0.3333333333333333,
              "#9c179e"
             ],
             [
              0.4444444444444444,
              "#bd3786"
             ],
             [
              0.5555555555555556,
              "#d8576b"
             ],
             [
              0.6666666666666666,
              "#ed7953"
             ],
             [
              0.7777777777777778,
              "#fb9f3a"
             ],
             [
              0.8888888888888888,
              "#fdca26"
             ],
             [
              1,
              "#f0f921"
             ]
            ],
            "type": "heatmap"
           }
          ],
          "histogram": [
           {
            "marker": {
             "pattern": {
              "fillmode": "overlay",
              "size": 10,
              "solidity": 0.2
             }
            },
            "type": "histogram"
           }
          ],
          "histogram2d": [
           {
            "colorbar": {
             "outlinewidth": 0,
             "ticks": ""
            },
            "colorscale": [
             [
              0,
              "#0d0887"
             ],
             [
              0.1111111111111111,
              "#46039f"
             ],
             [
              0.2222222222222222,
              "#7201a8"
             ],
             [
              0.3333333333333333,
              "#9c179e"
             ],
             [
              0.4444444444444444,
              "#bd3786"
             ],
             [
              0.5555555555555556,
              "#d8576b"
             ],
             [
              0.6666666666666666,
              "#ed7953"
             ],
             [
              0.7777777777777778,
              "#fb9f3a"
             ],
             [
              0.8888888888888888,
              "#fdca26"
             ],
             [
              1,
              "#f0f921"
             ]
            ],
            "type": "histogram2d"
           }
          ],
          "histogram2dcontour": [
           {
            "colorbar": {
             "outlinewidth": 0,
             "ticks": ""
            },
            "colorscale": [
             [
              0,
              "#0d0887"
             ],
             [
              0.1111111111111111,
              "#46039f"
             ],
             [
              0.2222222222222222,
              "#7201a8"
             ],
             [
              0.3333333333333333,
              "#9c179e"
             ],
             [
              0.4444444444444444,
              "#bd3786"
             ],
             [
              0.5555555555555556,
              "#d8576b"
             ],
             [
              0.6666666666666666,
              "#ed7953"
             ],
             [
              0.7777777777777778,
              "#fb9f3a"
             ],
             [
              0.8888888888888888,
              "#fdca26"
             ],
             [
              1,
              "#f0f921"
             ]
            ],
            "type": "histogram2dcontour"
           }
          ],
          "mesh3d": [
           {
            "colorbar": {
             "outlinewidth": 0,
             "ticks": ""
            },
            "type": "mesh3d"
           }
          ],
          "parcoords": [
           {
            "line": {
             "colorbar": {
              "outlinewidth": 0,
              "ticks": ""
             }
            },
            "type": "parcoords"
           }
          ],
          "pie": [
           {
            "automargin": true,
            "type": "pie"
           }
          ],
          "scatter": [
           {
            "fillpattern": {
             "fillmode": "overlay",
             "size": 10,
             "solidity": 0.2
            },
            "type": "scatter"
           }
          ],
          "scatter3d": [
           {
            "line": {
             "colorbar": {
              "outlinewidth": 0,
              "ticks": ""
             }
            },
            "marker": {
             "colorbar": {
              "outlinewidth": 0,
              "ticks": ""
             }
            },
            "type": "scatter3d"
           }
          ],
          "scattercarpet": [
           {
            "marker": {
             "colorbar": {
              "outlinewidth": 0,
              "ticks": ""
             }
            },
            "type": "scattercarpet"
           }
          ],
          "scattergeo": [
           {
            "marker": {
             "colorbar": {
              "outlinewidth": 0,
              "ticks": ""
             }
            },
            "type": "scattergeo"
           }
          ],
          "scattergl": [
           {
            "marker": {
             "colorbar": {
              "outlinewidth": 0,
              "ticks": ""
             }
            },
            "type": "scattergl"
           }
          ],
          "scattermap": [
           {
            "marker": {
             "colorbar": {
              "outlinewidth": 0,
              "ticks": ""
             }
            },
            "type": "scattermap"
           }
          ],
          "scattermapbox": [
           {
            "marker": {
             "colorbar": {
              "outlinewidth": 0,
              "ticks": ""
             }
            },
            "type": "scattermapbox"
           }
          ],
          "scatterpolar": [
           {
            "marker": {
             "colorbar": {
              "outlinewidth": 0,
              "ticks": ""
             }
            },
            "type": "scatterpolar"
           }
          ],
          "scatterpolargl": [
           {
            "marker": {
             "colorbar": {
              "outlinewidth": 0,
              "ticks": ""
             }
            },
            "type": "scatterpolargl"
           }
          ],
          "scatterternary": [
           {
            "marker": {
             "colorbar": {
              "outlinewidth": 0,
              "ticks": ""
             }
            },
            "type": "scatterternary"
           }
          ],
          "surface": [
           {
            "colorbar": {
             "outlinewidth": 0,
             "ticks": ""
            },
            "colorscale": [
             [
              0,
              "#0d0887"
             ],
             [
              0.1111111111111111,
              "#46039f"
             ],
             [
              0.2222222222222222,
              "#7201a8"
             ],
             [
              0.3333333333333333,
              "#9c179e"
             ],
             [
              0.4444444444444444,
              "#bd3786"
             ],
             [
              0.5555555555555556,
              "#d8576b"
             ],
             [
              0.6666666666666666,
              "#ed7953"
             ],
             [
              0.7777777777777778,
              "#fb9f3a"
             ],
             [
              0.8888888888888888,
              "#fdca26"
             ],
             [
              1,
              "#f0f921"
             ]
            ],
            "type": "surface"
           }
          ],
          "table": [
           {
            "cells": {
             "fill": {
              "color": "#EBF0F8"
             },
             "line": {
              "color": "white"
             }
            },
            "header": {
             "fill": {
              "color": "#C8D4E3"
             },
             "line": {
              "color": "white"
             }
            },
            "type": "table"
           }
          ]
         },
         "layout": {
          "annotationdefaults": {
           "arrowcolor": "#2a3f5f",
           "arrowhead": 0,
           "arrowwidth": 1
          },
          "autotypenumbers": "strict",
          "coloraxis": {
           "colorbar": {
            "outlinewidth": 0,
            "ticks": ""
           }
          },
          "colorscale": {
           "diverging": [
            [
             0,
             "#8e0152"
            ],
            [
             0.1,
             "#c51b7d"
            ],
            [
             0.2,
             "#de77ae"
            ],
            [
             0.3,
             "#f1b6da"
            ],
            [
             0.4,
             "#fde0ef"
            ],
            [
             0.5,
             "#f7f7f7"
            ],
            [
             0.6,
             "#e6f5d0"
            ],
            [
             0.7,
             "#b8e186"
            ],
            [
             0.8,
             "#7fbc41"
            ],
            [
             0.9,
             "#4d9221"
            ],
            [
             1,
             "#276419"
            ]
           ],
           "sequential": [
            [
             0,
             "#0d0887"
            ],
            [
             0.1111111111111111,
             "#46039f"
            ],
            [
             0.2222222222222222,
             "#7201a8"
            ],
            [
             0.3333333333333333,
             "#9c179e"
            ],
            [
             0.4444444444444444,
             "#bd3786"
            ],
            [
             0.5555555555555556,
             "#d8576b"
            ],
            [
             0.6666666666666666,
             "#ed7953"
            ],
            [
             0.7777777777777778,
             "#fb9f3a"
            ],
            [
             0.8888888888888888,
             "#fdca26"
            ],
            [
             1,
             "#f0f921"
            ]
           ],
           "sequentialminus": [
            [
             0,
             "#0d0887"
            ],
            [
             0.1111111111111111,
             "#46039f"
            ],
            [
             0.2222222222222222,
             "#7201a8"
            ],
            [
             0.3333333333333333,
             "#9c179e"
            ],
            [
             0.4444444444444444,
             "#bd3786"
            ],
            [
             0.5555555555555556,
             "#d8576b"
            ],
            [
             0.6666666666666666,
             "#ed7953"
            ],
            [
             0.7777777777777778,
             "#fb9f3a"
            ],
            [
             0.8888888888888888,
             "#fdca26"
            ],
            [
             1,
             "#f0f921"
            ]
           ]
          },
          "colorway": [
           "#636efa",
           "#EF553B",
           "#00cc96",
           "#ab63fa",
           "#FFA15A",
           "#19d3f3",
           "#FF6692",
           "#B6E880",
           "#FF97FF",
           "#FECB52"
          ],
          "font": {
           "color": "#2a3f5f"
          },
          "geo": {
           "bgcolor": "white",
           "lakecolor": "white",
           "landcolor": "#E5ECF6",
           "showlakes": true,
           "showland": true,
           "subunitcolor": "white"
          },
          "hoverlabel": {
           "align": "left"
          },
          "hovermode": "closest",
          "mapbox": {
           "style": "light"
          },
          "paper_bgcolor": "white",
          "plot_bgcolor": "#E5ECF6",
          "polar": {
           "angularaxis": {
            "gridcolor": "white",
            "linecolor": "white",
            "ticks": ""
           },
           "bgcolor": "#E5ECF6",
           "radialaxis": {
            "gridcolor": "white",
            "linecolor": "white",
            "ticks": ""
           }
          },
          "scene": {
           "xaxis": {
            "backgroundcolor": "#E5ECF6",
            "gridcolor": "white",
            "gridwidth": 2,
            "linecolor": "white",
            "showbackground": true,
            "ticks": "",
            "zerolinecolor": "white"
           },
           "yaxis": {
            "backgroundcolor": "#E5ECF6",
            "gridcolor": "white",
            "gridwidth": 2,
            "linecolor": "white",
            "showbackground": true,
            "ticks": "",
            "zerolinecolor": "white"
           },
           "zaxis": {
            "backgroundcolor": "#E5ECF6",
            "gridcolor": "white",
            "gridwidth": 2,
            "linecolor": "white",
            "showbackground": true,
            "ticks": "",
            "zerolinecolor": "white"
           }
          },
          "shapedefaults": {
           "line": {
            "color": "#2a3f5f"
           }
          },
          "ternary": {
           "aaxis": {
            "gridcolor": "white",
            "linecolor": "white",
            "ticks": ""
           },
           "baxis": {
            "gridcolor": "white",
            "linecolor": "white",
            "ticks": ""
           },
           "bgcolor": "#E5ECF6",
           "caxis": {
            "gridcolor": "white",
            "linecolor": "white",
            "ticks": ""
           }
          },
          "title": {
           "x": 0.05
          },
          "xaxis": {
           "automargin": true,
           "gridcolor": "white",
           "linecolor": "white",
           "ticks": "",
           "title": {
            "standoff": 15
           },
           "zerolinecolor": "white",
           "zerolinewidth": 2
          },
          "yaxis": {
           "automargin": true,
           "gridcolor": "white",
           "linecolor": "white",
           "ticks": "",
           "title": {
            "standoff": 15
           },
           "zerolinecolor": "white",
           "zerolinewidth": 2
          }
         }
        },
        "title": {
         "text": "Speed Box Plot"
        },
        "xaxis": {
         "anchor": "y",
         "domain": [
          0,
          1
         ]
        },
        "yaxis": {
         "anchor": "x",
         "domain": [
          0,
          1
         ],
         "title": {
          "text": "Speed (km/h)"
         }
        }
       }
      }
     },
     "metadata": {},
     "output_type": "display_data"
    }
   ],
   "source": [
    "# Speed distribution\n",
    "if traffic_data and 'speed_kmh' in traffic_df.columns:\n",
    "    fig = px.histogram(\n",
    "        traffic_df,\n",
    "        x='speed_kmh',\n",
    "        nbins=30,\n",
    "        title='Traffic Speed Distribution',\n",
    "        labels={'speed_kmh': 'Speed (km/h)', 'count': 'Number of Edges'}\n",
    "    )\n",
    "    fig.show()\n",
    "    \n",
    "    # Box plot\n",
    "    fig = px.box(\n",
    "        traffic_df,\n",
    "        y='speed_kmh',\n",
    "        title='Speed Box Plot',\n",
    "        labels={'speed_kmh': 'Speed (km/h)'}\n",
    "    )\n",
    "    fig.show()\n",
    "else:\n",
    "    print(\"⚠️ No speed data available\")"
   ]
  },
  {
   "cell_type": "code",
   "execution_count": 12,
   "id": "243ca39d",
   "metadata": {},
   "outputs": [
    {
     "name": "stdout",
     "output_type": "stream",
     "text": [
      "⚠️ No duration data available\n"
     ]
    }
   ],
   "source": [
    "# Duration distribution\n",
    "if traffic_data and 'duration_minutes' in traffic_df.columns:\n",
    "    fig = px.histogram(\n",
    "        traffic_df,\n",
    "        x='duration_minutes',\n",
    "        nbins=30,\n",
    "        title='Travel Duration Distribution',\n",
    "        labels={'duration_minutes': 'Duration (minutes)', 'count': 'Number of Edges'}\n",
    "    )\n",
    "    fig.show()\n",
    "else:\n",
    "    print(\"⚠️ No duration data available\")"
   ]
  },
  {
   "cell_type": "markdown",
   "id": "71382b36",
   "metadata": {},
   "source": [
    "## 7. Temporal Analysis (Multiple Runs)"
   ]
  },
  {
   "cell_type": "code",
   "execution_count": 13,
   "id": "96b2bb5c",
   "metadata": {},
   "outputs": [
    {
     "name": "stdout",
     "output_type": "stream",
     "text": [
      "\n",
      "⏳ Loading 20 runs for temporal analysis...\n",
      "Loaded 20 runs with traffic data\n",
      "Loaded 20 runs with traffic data\n"
     ]
    },
    {
     "data": {
      "text/html": [
       "<div>\n",
       "<style scoped>\n",
       "    .dataframe tbody tr th:only-of-type {\n",
       "        vertical-align: middle;\n",
       "    }\n",
       "\n",
       "    .dataframe tbody tr th {\n",
       "        vertical-align: top;\n",
       "    }\n",
       "\n",
       "    .dataframe thead th {\n",
       "        text-align: right;\n",
       "    }\n",
       "</style>\n",
       "<table border=\"1\" class=\"dataframe\">\n",
       "  <thead>\n",
       "    <tr style=\"text-align: right;\">\n",
       "      <th></th>\n",
       "      <th>timestamp</th>\n",
       "      <th>avg_speed</th>\n",
       "      <th>min_speed</th>\n",
       "      <th>max_speed</th>\n",
       "      <th>num_edges</th>\n",
       "    </tr>\n",
       "  </thead>\n",
       "  <tbody>\n",
       "    <tr>\n",
       "      <th>19</th>\n",
       "      <td>2025-10-27 02:33:19</td>\n",
       "      <td>28.518217</td>\n",
       "      <td>15.284437</td>\n",
       "      <td>44.292978</td>\n",
       "      <td>120</td>\n",
       "    </tr>\n",
       "    <tr>\n",
       "      <th>18</th>\n",
       "      <td>2025-10-27 03:03:22</td>\n",
       "      <td>32.212458</td>\n",
       "      <td>15.478228</td>\n",
       "      <td>44.849457</td>\n",
       "      <td>120</td>\n",
       "    </tr>\n",
       "    <tr>\n",
       "      <th>17</th>\n",
       "      <td>2025-10-27 03:33:25</td>\n",
       "      <td>29.998383</td>\n",
       "      <td>15.067590</td>\n",
       "      <td>44.837531</td>\n",
       "      <td>120</td>\n",
       "    </tr>\n",
       "    <tr>\n",
       "      <th>16</th>\n",
       "      <td>2025-10-27 04:03:28</td>\n",
       "      <td>31.434046</td>\n",
       "      <td>15.415523</td>\n",
       "      <td>44.939202</td>\n",
       "      <td>120</td>\n",
       "    </tr>\n",
       "    <tr>\n",
       "      <th>15</th>\n",
       "      <td>2025-10-27 04:33:32</td>\n",
       "      <td>29.763498</td>\n",
       "      <td>15.040446</td>\n",
       "      <td>44.672849</td>\n",
       "      <td>120</td>\n",
       "    </tr>\n",
       "  </tbody>\n",
       "</table>\n",
       "</div>"
      ],
      "text/plain": [
       "             timestamp  avg_speed  min_speed  max_speed  num_edges\n",
       "19 2025-10-27 02:33:19  28.518217  15.284437  44.292978        120\n",
       "18 2025-10-27 03:03:22  32.212458  15.478228  44.849457        120\n",
       "17 2025-10-27 03:33:25  29.998383  15.067590  44.837531        120\n",
       "16 2025-10-27 04:03:28  31.434046  15.415523  44.939202        120\n",
       "15 2025-10-27 04:33:32  29.763498  15.040446  44.672849        120"
      ]
     },
     "metadata": {},
     "output_type": "display_data"
    }
   ],
   "source": [
    "# Load multiple runs for temporal analysis\n",
    "num_runs_to_analyze = min(20, len(runs))  # Analyze last 20 runs\n",
    "\n",
    "temporal_data = []\n",
    "\n",
    "print(f\"\\n⏳ Loading {num_runs_to_analyze} runs for temporal analysis...\")\n",
    "\n",
    "for run in runs[:num_runs_to_analyze]:\n",
    "    # Parse timestamp\n",
    "    try:\n",
    "        ts = datetime.strptime(run.name, '%Y%m%d%H%M%S')\n",
    "    except:\n",
    "        continue\n",
    "    \n",
    "    # Load traffic data\n",
    "    google_file = run / 'collectors' / 'google' / 'traffic_edges.json'\n",
    "    mock_file = run / 'collectors' / 'mock' / 'traffic_snapshot_normalized.json'\n",
    "    \n",
    "    traffic_file = google_file if google_file.exists() else mock_file\n",
    "    \n",
    "    if traffic_file.exists():\n",
    "        data = load_json_file(traffic_file)\n",
    "        if data:\n",
    "            df = pd.DataFrame(data)\n",
    "            if 'speed_kmh' in df.columns:\n",
    "                temporal_data.append({\n",
    "                    'timestamp': ts,\n",
    "                    'avg_speed': df['speed_kmh'].mean(),\n",
    "                    'min_speed': df['speed_kmh'].min(),\n",
    "                    'max_speed': df['speed_kmh'].max(),\n",
    "                    'num_edges': len(df)\n",
    "                })\n",
    "\n",
    "if temporal_data:\n",
    "    temporal_df = pd.DataFrame(temporal_data)\n",
    "    temporal_df = temporal_df.sort_values('timestamp')\n",
    "    \n",
    "    print(f\"Loaded {len(temporal_df)} runs with traffic data\")\n",
    "    display(temporal_df.head())\n",
    "else:\n",
    "    print(\"⚠️ No temporal data available\")"
   ]
  },
  {
   "cell_type": "code",
   "execution_count": 14,
   "id": "b95ee7aa",
   "metadata": {},
   "outputs": [
    {
     "data": {
      "application/vnd.plotly.v1+json": {
       "config": {
        "plotlyServerURL": "https://plot.ly"
       },
       "data": [
        {
         "line": {
          "color": "blue",
          "width": 2
         },
         "mode": "lines+markers",
         "name": "Average Speed",
         "type": "scatter",
         "x": [
          "2025-10-27T02:33:19.000000000",
          "2025-10-27T03:03:22.000000000",
          "2025-10-27T03:33:25.000000000",
          "2025-10-27T04:03:28.000000000",
          "2025-10-27T04:33:32.000000000",
          "2025-10-27T05:03:35.000000000",
          "2025-10-27T05:33:39.000000000",
          "2025-10-27T06:03:42.000000000",
          "2025-10-27T06:33:45.000000000",
          "2025-10-27T07:03:49.000000000",
          "2025-10-27T07:33:52.000000000",
          "2025-10-27T08:03:56.000000000",
          "2025-10-27T08:33:59.000000000",
          "2025-10-27T09:04:02.000000000",
          "2025-10-27T09:34:06.000000000",
          "2025-10-27T10:04:09.000000000",
          "2025-10-27T10:34:13.000000000",
          "2025-10-27T11:04:16.000000000",
          "2025-10-27T11:34:20.000000000",
          "2025-10-27T11:35:04.000000000"
         ],
         "y": {
          "bdata": "NlVt16mEPEB0wi7TMRtAQBW1XwWW/z1Aj55mph1vP0AZ37KTdMM9QNLCSs3BEj5AoznBkKyMPUCXsiuxpDY/QMHFVtV1JD5AZoKc75qVPEArRyTr+tM9QJ98BTxXmz5Aj0rmjHXBPkAceRAtcQ49QOrwYrlfTD1AFCaOw/FVPkDj9mSKah4/QNRvZGB/9z1AhQnjGY7PPEA8/RN2WPw8QA==",
          "dtype": "f8"
         }
        },
        {
         "line": {
          "color": "green",
          "dash": "dash",
          "width": 1
         },
         "mode": "lines",
         "name": "Max Speed",
         "type": "scatter",
         "x": [
          "2025-10-27T02:33:19.000000000",
          "2025-10-27T03:03:22.000000000",
          "2025-10-27T03:33:25.000000000",
          "2025-10-27T04:03:28.000000000",
          "2025-10-27T04:33:32.000000000",
          "2025-10-27T05:03:35.000000000",
          "2025-10-27T05:33:39.000000000",
          "2025-10-27T06:03:42.000000000",
          "2025-10-27T06:33:45.000000000",
          "2025-10-27T07:03:49.000000000",
          "2025-10-27T07:33:52.000000000",
          "2025-10-27T08:03:56.000000000",
          "2025-10-27T08:33:59.000000000",
          "2025-10-27T09:04:02.000000000",
          "2025-10-27T09:34:06.000000000",
          "2025-10-27T10:04:09.000000000",
          "2025-10-27T10:34:13.000000000",
          "2025-10-27T11:04:16.000000000",
          "2025-10-27T11:34:20.000000000",
          "2025-10-27T11:35:04.000000000"
         ],
         "y": {
          "bdata": "3sjwTIAlRkDpQ+D/umxGQCvfQTs0a0ZAES5uxTd4RkDWXm3oH1ZGQAfwfQR/Z0ZAzWRu1rN+RkDK5GsKTHNGQMNO3aeYO0ZAaqaWYVV5RkDyoG7OEThGQDQree7zbEZABS8cnIoSRkCH/O9l2G9GQEkOORVRaUZAUqtOXJ59RkAI1MsOzntGQPMcxXIpH0ZAB1eUjBs6RkA74xvpIVxGQA==",
          "dtype": "f8"
         }
        },
        {
         "line": {
          "color": "red",
          "dash": "dash",
          "width": 1
         },
         "mode": "lines",
         "name": "Min Speed",
         "type": "scatter",
         "x": [
          "2025-10-27T02:33:19.000000000",
          "2025-10-27T03:03:22.000000000",
          "2025-10-27T03:33:25.000000000",
          "2025-10-27T04:03:28.000000000",
          "2025-10-27T04:33:32.000000000",
          "2025-10-27T05:03:35.000000000",
          "2025-10-27T05:33:39.000000000",
          "2025-10-27T06:03:42.000000000",
          "2025-10-27T06:33:45.000000000",
          "2025-10-27T07:03:49.000000000",
          "2025-10-27T07:33:52.000000000",
          "2025-10-27T08:03:56.000000000",
          "2025-10-27T08:33:59.000000000",
          "2025-10-27T09:04:02.000000000",
          "2025-10-27T09:34:06.000000000",
          "2025-10-27T10:04:09.000000000",
          "2025-10-27T10:34:13.000000000",
          "2025-10-27T11:04:16.000000000",
          "2025-10-27T11:34:20.000000000",
          "2025-10-27T11:35:04.000000000"
         ],
         "y": {
          "bdata": "CEf8s6GRLkAlCLpZ2vQuQP5XsCabIi5AisQkZb/ULkDvXu9htRQuQCOJQFoEUS5Aj/fgpcehL0AhJ8IFYjkuQCP2qKLbDi5AUSpu+XwPLkA2hm4e2qMuQLoYT6OVHC9ArP6sA0RoL0Cof5WaqBkuQEdpd3FENC9AUEKfm4mnL0BspMiXW1YvQByZPpYQ7i5AsNPDDAoXL0A15E/b3HQuQA==",
          "dtype": "f8"
         }
        }
       ],
       "layout": {
        "height": 500,
        "hovermode": "x unified",
        "template": {
         "data": {
          "bar": [
           {
            "error_x": {
             "color": "#2a3f5f"
            },
            "error_y": {
             "color": "#2a3f5f"
            },
            "marker": {
             "line": {
              "color": "#E5ECF6",
              "width": 0.5
             },
             "pattern": {
              "fillmode": "overlay",
              "size": 10,
              "solidity": 0.2
             }
            },
            "type": "bar"
           }
          ],
          "barpolar": [
           {
            "marker": {
             "line": {
              "color": "#E5ECF6",
              "width": 0.5
             },
             "pattern": {
              "fillmode": "overlay",
              "size": 10,
              "solidity": 0.2
             }
            },
            "type": "barpolar"
           }
          ],
          "carpet": [
           {
            "aaxis": {
             "endlinecolor": "#2a3f5f",
             "gridcolor": "white",
             "linecolor": "white",
             "minorgridcolor": "white",
             "startlinecolor": "#2a3f5f"
            },
            "baxis": {
             "endlinecolor": "#2a3f5f",
             "gridcolor": "white",
             "linecolor": "white",
             "minorgridcolor": "white",
             "startlinecolor": "#2a3f5f"
            },
            "type": "carpet"
           }
          ],
          "choropleth": [
           {
            "colorbar": {
             "outlinewidth": 0,
             "ticks": ""
            },
            "type": "choropleth"
           }
          ],
          "contour": [
           {
            "colorbar": {
             "outlinewidth": 0,
             "ticks": ""
            },
            "colorscale": [
             [
              0,
              "#0d0887"
             ],
             [
              0.1111111111111111,
              "#46039f"
             ],
             [
              0.2222222222222222,
              "#7201a8"
             ],
             [
              0.3333333333333333,
              "#9c179e"
             ],
             [
              0.4444444444444444,
              "#bd3786"
             ],
             [
              0.5555555555555556,
              "#d8576b"
             ],
             [
              0.6666666666666666,
              "#ed7953"
             ],
             [
              0.7777777777777778,
              "#fb9f3a"
             ],
             [
              0.8888888888888888,
              "#fdca26"
             ],
             [
              1,
              "#f0f921"
             ]
            ],
            "type": "contour"
           }
          ],
          "contourcarpet": [
           {
            "colorbar": {
             "outlinewidth": 0,
             "ticks": ""
            },
            "type": "contourcarpet"
           }
          ],
          "heatmap": [
           {
            "colorbar": {
             "outlinewidth": 0,
             "ticks": ""
            },
            "colorscale": [
             [
              0,
              "#0d0887"
             ],
             [
              0.1111111111111111,
              "#46039f"
             ],
             [
              0.2222222222222222,
              "#7201a8"
             ],
             [
              0.3333333333333333,
              "#9c179e"
             ],
             [
              0.4444444444444444,
              "#bd3786"
             ],
             [
              0.5555555555555556,
              "#d8576b"
             ],
             [
              0.6666666666666666,
              "#ed7953"
             ],
             [
              0.7777777777777778,
              "#fb9f3a"
             ],
             [
              0.8888888888888888,
              "#fdca26"
             ],
             [
              1,
              "#f0f921"
             ]
            ],
            "type": "heatmap"
           }
          ],
          "histogram": [
           {
            "marker": {
             "pattern": {
              "fillmode": "overlay",
              "size": 10,
              "solidity": 0.2
             }
            },
            "type": "histogram"
           }
          ],
          "histogram2d": [
           {
            "colorbar": {
             "outlinewidth": 0,
             "ticks": ""
            },
            "colorscale": [
             [
              0,
              "#0d0887"
             ],
             [
              0.1111111111111111,
              "#46039f"
             ],
             [
              0.2222222222222222,
              "#7201a8"
             ],
             [
              0.3333333333333333,
              "#9c179e"
             ],
             [
              0.4444444444444444,
              "#bd3786"
             ],
             [
              0.5555555555555556,
              "#d8576b"
             ],
             [
              0.6666666666666666,
              "#ed7953"
             ],
             [
              0.7777777777777778,
              "#fb9f3a"
             ],
             [
              0.8888888888888888,
              "#fdca26"
             ],
             [
              1,
              "#f0f921"
             ]
            ],
            "type": "histogram2d"
           }
          ],
          "histogram2dcontour": [
           {
            "colorbar": {
             "outlinewidth": 0,
             "ticks": ""
            },
            "colorscale": [
             [
              0,
              "#0d0887"
             ],
             [
              0.1111111111111111,
              "#46039f"
             ],
             [
              0.2222222222222222,
              "#7201a8"
             ],
             [
              0.3333333333333333,
              "#9c179e"
             ],
             [
              0.4444444444444444,
              "#bd3786"
             ],
             [
              0.5555555555555556,
              "#d8576b"
             ],
             [
              0.6666666666666666,
              "#ed7953"
             ],
             [
              0.7777777777777778,
              "#fb9f3a"
             ],
             [
              0.8888888888888888,
              "#fdca26"
             ],
             [
              1,
              "#f0f921"
             ]
            ],
            "type": "histogram2dcontour"
           }
          ],
          "mesh3d": [
           {
            "colorbar": {
             "outlinewidth": 0,
             "ticks": ""
            },
            "type": "mesh3d"
           }
          ],
          "parcoords": [
           {
            "line": {
             "colorbar": {
              "outlinewidth": 0,
              "ticks": ""
             }
            },
            "type": "parcoords"
           }
          ],
          "pie": [
           {
            "automargin": true,
            "type": "pie"
           }
          ],
          "scatter": [
           {
            "fillpattern": {
             "fillmode": "overlay",
             "size": 10,
             "solidity": 0.2
            },
            "type": "scatter"
           }
          ],
          "scatter3d": [
           {
            "line": {
             "colorbar": {
              "outlinewidth": 0,
              "ticks": ""
             }
            },
            "marker": {
             "colorbar": {
              "outlinewidth": 0,
              "ticks": ""
             }
            },
            "type": "scatter3d"
           }
          ],
          "scattercarpet": [
           {
            "marker": {
             "colorbar": {
              "outlinewidth": 0,
              "ticks": ""
             }
            },
            "type": "scattercarpet"
           }
          ],
          "scattergeo": [
           {
            "marker": {
             "colorbar": {
              "outlinewidth": 0,
              "ticks": ""
             }
            },
            "type": "scattergeo"
           }
          ],
          "scattergl": [
           {
            "marker": {
             "colorbar": {
              "outlinewidth": 0,
              "ticks": ""
             }
            },
            "type": "scattergl"
           }
          ],
          "scattermap": [
           {
            "marker": {
             "colorbar": {
              "outlinewidth": 0,
              "ticks": ""
             }
            },
            "type": "scattermap"
           }
          ],
          "scattermapbox": [
           {
            "marker": {
             "colorbar": {
              "outlinewidth": 0,
              "ticks": ""
             }
            },
            "type": "scattermapbox"
           }
          ],
          "scatterpolar": [
           {
            "marker": {
             "colorbar": {
              "outlinewidth": 0,
              "ticks": ""
             }
            },
            "type": "scatterpolar"
           }
          ],
          "scatterpolargl": [
           {
            "marker": {
             "colorbar": {
              "outlinewidth": 0,
              "ticks": ""
             }
            },
            "type": "scatterpolargl"
           }
          ],
          "scatterternary": [
           {
            "marker": {
             "colorbar": {
              "outlinewidth": 0,
              "ticks": ""
             }
            },
            "type": "scatterternary"
           }
          ],
          "surface": [
           {
            "colorbar": {
             "outlinewidth": 0,
             "ticks": ""
            },
            "colorscale": [
             [
              0,
              "#0d0887"
             ],
             [
              0.1111111111111111,
              "#46039f"
             ],
             [
              0.2222222222222222,
              "#7201a8"
             ],
             [
              0.3333333333333333,
              "#9c179e"
             ],
             [
              0.4444444444444444,
              "#bd3786"
             ],
             [
              0.5555555555555556,
              "#d8576b"
             ],
             [
              0.6666666666666666,
              "#ed7953"
             ],
             [
              0.7777777777777778,
              "#fb9f3a"
             ],
             [
              0.8888888888888888,
              "#fdca26"
             ],
             [
              1,
              "#f0f921"
             ]
            ],
            "type": "surface"
           }
          ],
          "table": [
           {
            "cells": {
             "fill": {
              "color": "#EBF0F8"
             },
             "line": {
              "color": "white"
             }
            },
            "header": {
             "fill": {
              "color": "#C8D4E3"
             },
             "line": {
              "color": "white"
             }
            },
            "type": "table"
           }
          ]
         },
         "layout": {
          "annotationdefaults": {
           "arrowcolor": "#2a3f5f",
           "arrowhead": 0,
           "arrowwidth": 1
          },
          "autotypenumbers": "strict",
          "coloraxis": {
           "colorbar": {
            "outlinewidth": 0,
            "ticks": ""
           }
          },
          "colorscale": {
           "diverging": [
            [
             0,
             "#8e0152"
            ],
            [
             0.1,
             "#c51b7d"
            ],
            [
             0.2,
             "#de77ae"
            ],
            [
             0.3,
             "#f1b6da"
            ],
            [
             0.4,
             "#fde0ef"
            ],
            [
             0.5,
             "#f7f7f7"
            ],
            [
             0.6,
             "#e6f5d0"
            ],
            [
             0.7,
             "#b8e186"
            ],
            [
             0.8,
             "#7fbc41"
            ],
            [
             0.9,
             "#4d9221"
            ],
            [
             1,
             "#276419"
            ]
           ],
           "sequential": [
            [
             0,
             "#0d0887"
            ],
            [
             0.1111111111111111,
             "#46039f"
            ],
            [
             0.2222222222222222,
             "#7201a8"
            ],
            [
             0.3333333333333333,
             "#9c179e"
            ],
            [
             0.4444444444444444,
             "#bd3786"
            ],
            [
             0.5555555555555556,
             "#d8576b"
            ],
            [
             0.6666666666666666,
             "#ed7953"
            ],
            [
             0.7777777777777778,
             "#fb9f3a"
            ],
            [
             0.8888888888888888,
             "#fdca26"
            ],
            [
             1,
             "#f0f921"
            ]
           ],
           "sequentialminus": [
            [
             0,
             "#0d0887"
            ],
            [
             0.1111111111111111,
             "#46039f"
            ],
            [
             0.2222222222222222,
             "#7201a8"
            ],
            [
             0.3333333333333333,
             "#9c179e"
            ],
            [
             0.4444444444444444,
             "#bd3786"
            ],
            [
             0.5555555555555556,
             "#d8576b"
            ],
            [
             0.6666666666666666,
             "#ed7953"
            ],
            [
             0.7777777777777778,
             "#fb9f3a"
            ],
            [
             0.8888888888888888,
             "#fdca26"
            ],
            [
             1,
             "#f0f921"
            ]
           ]
          },
          "colorway": [
           "#636efa",
           "#EF553B",
           "#00cc96",
           "#ab63fa",
           "#FFA15A",
           "#19d3f3",
           "#FF6692",
           "#B6E880",
           "#FF97FF",
           "#FECB52"
          ],
          "font": {
           "color": "#2a3f5f"
          },
          "geo": {
           "bgcolor": "white",
           "lakecolor": "white",
           "landcolor": "#E5ECF6",
           "showlakes": true,
           "showland": true,
           "subunitcolor": "white"
          },
          "hoverlabel": {
           "align": "left"
          },
          "hovermode": "closest",
          "mapbox": {
           "style": "light"
          },
          "paper_bgcolor": "white",
          "plot_bgcolor": "#E5ECF6",
          "polar": {
           "angularaxis": {
            "gridcolor": "white",
            "linecolor": "white",
            "ticks": ""
           },
           "bgcolor": "#E5ECF6",
           "radialaxis": {
            "gridcolor": "white",
            "linecolor": "white",
            "ticks": ""
           }
          },
          "scene": {
           "xaxis": {
            "backgroundcolor": "#E5ECF6",
            "gridcolor": "white",
            "gridwidth": 2,
            "linecolor": "white",
            "showbackground": true,
            "ticks": "",
            "zerolinecolor": "white"
           },
           "yaxis": {
            "backgroundcolor": "#E5ECF6",
            "gridcolor": "white",
            "gridwidth": 2,
            "linecolor": "white",
            "showbackground": true,
            "ticks": "",
            "zerolinecolor": "white"
           },
           "zaxis": {
            "backgroundcolor": "#E5ECF6",
            "gridcolor": "white",
            "gridwidth": 2,
            "linecolor": "white",
            "showbackground": true,
            "ticks": "",
            "zerolinecolor": "white"
           }
          },
          "shapedefaults": {
           "line": {
            "color": "#2a3f5f"
           }
          },
          "ternary": {
           "aaxis": {
            "gridcolor": "white",
            "linecolor": "white",
            "ticks": ""
           },
           "baxis": {
            "gridcolor": "white",
            "linecolor": "white",
            "ticks": ""
           },
           "bgcolor": "#E5ECF6",
           "caxis": {
            "gridcolor": "white",
            "linecolor": "white",
            "ticks": ""
           }
          },
          "title": {
           "x": 0.05
          },
          "xaxis": {
           "automargin": true,
           "gridcolor": "white",
           "linecolor": "white",
           "ticks": "",
           "title": {
            "standoff": 15
           },
           "zerolinecolor": "white",
           "zerolinewidth": 2
          },
          "yaxis": {
           "automargin": true,
           "gridcolor": "white",
           "linecolor": "white",
           "ticks": "",
           "title": {
            "standoff": 15
           },
           "zerolinecolor": "white",
           "zerolinewidth": 2
          }
         }
        },
        "title": {
         "text": "Traffic Speed Over Time"
        },
        "xaxis": {
         "title": {
          "text": "Timestamp"
         }
        },
        "yaxis": {
         "title": {
          "text": "Speed (km/h)"
         }
        }
       }
      }
     },
     "metadata": {},
     "output_type": "display_data"
    }
   ],
   "source": [
    "# Plot temporal trends\n",
    "if temporal_data:\n",
    "    fig = go.Figure()\n",
    "    \n",
    "    fig.add_trace(go.Scatter(\n",
    "        x=temporal_df['timestamp'],\n",
    "        y=temporal_df['avg_speed'],\n",
    "        mode='lines+markers',\n",
    "        name='Average Speed',\n",
    "        line=dict(color='blue', width=2)\n",
    "    ))\n",
    "    \n",
    "    fig.add_trace(go.Scatter(\n",
    "        x=temporal_df['timestamp'],\n",
    "        y=temporal_df['max_speed'],\n",
    "        mode='lines',\n",
    "        name='Max Speed',\n",
    "        line=dict(color='green', width=1, dash='dash')\n",
    "    ))\n",
    "    \n",
    "    fig.add_trace(go.Scatter(\n",
    "        x=temporal_df['timestamp'],\n",
    "        y=temporal_df['min_speed'],\n",
    "        mode='lines',\n",
    "        name='Min Speed',\n",
    "        line=dict(color='red', width=1, dash='dash')\n",
    "    ))\n",
    "    \n",
    "    fig.update_layout(\n",
    "        title='Traffic Speed Over Time',\n",
    "        xaxis_title='Timestamp',\n",
    "        yaxis_title='Speed (km/h)',\n",
    "        hovermode='x unified',\n",
    "        height=500\n",
    "    )\n",
    "    \n",
    "    fig.show()\n",
    "else:\n",
    "    print(\"⚠️ No temporal data to plot\")"
   ]
  },
  {
   "cell_type": "markdown",
   "id": "4dcf9884",
   "metadata": {},
   "source": [
    "## 8. Data Quality Report"
   ]
  },
  {
   "cell_type": "code",
   "execution_count": 15,
   "id": "19edb5bf",
   "metadata": {},
   "outputs": [
    {
     "name": "stdout",
     "output_type": "stream",
     "text": [
      "📋 Data Quality Report\n",
      "============================================================\n",
      "   Total Runs: 100\n",
      "   Runs with Traffic Data: 20\n",
      "   Runs with Overpass Data: 20\n",
      "   Runs with Weather Data: 20\n",
      "\n",
      "📊 Completeness (last 20 runs):\n",
      "   Traffic Data: 100.0%\n",
      "   Overpass Data: 100.0%\n",
      "   Weather Data: 100.0%\n"
     ]
    }
   ],
   "source": [
    "print(\"📋 Data Quality Report\")\n",
    "print(\"=\" * 60)\n",
    "\n",
    "# Check data completeness\n",
    "quality_metrics = {\n",
    "    'Total Runs': len(runs),\n",
    "    'Runs with Traffic Data': len([r for r in runs[:num_runs_to_analyze] \n",
    "                                   if (r / 'collectors' / 'google' / 'traffic_edges.json').exists() or\n",
    "                                      (r / 'collectors' / 'mock' / 'traffic_snapshot_normalized.json').exists()]),\n",
    "    'Runs with Overpass Data': len([r for r in runs[:num_runs_to_analyze]\n",
    "                                    if (r / 'collectors' / 'overpass' / 'nodes.json').exists()]),\n",
    "    'Runs with Weather Data': len([r for r in runs[:num_runs_to_analyze]\n",
    "                                   if (r / 'collectors' / 'open_meteo' / 'weather_snapshot.json').exists()]),\n",
    "}\n",
    "\n",
    "for metric, value in quality_metrics.items():\n",
    "    print(f\"   {metric}: {value}\")\n",
    "\n",
    "# Calculate completeness percentage\n",
    "if len(runs) > 0:\n",
    "    traffic_completeness = (quality_metrics['Runs with Traffic Data'] / num_runs_to_analyze) * 100\n",
    "    overpass_completeness = (quality_metrics['Runs with Overpass Data'] / num_runs_to_analyze) * 100\n",
    "    weather_completeness = (quality_metrics['Runs with Weather Data'] / num_runs_to_analyze) * 100\n",
    "    \n",
    "    print(f\"\\n📊 Completeness (last {num_runs_to_analyze} runs):\")\n",
    "    print(f\"   Traffic Data: {traffic_completeness:.1f}%\")\n",
    "    print(f\"   Overpass Data: {overpass_completeness:.1f}%\")\n",
    "    print(f\"   Weather Data: {weather_completeness:.1f}%\")"
   ]
  },
  {
   "cell_type": "markdown",
   "id": "a3bd1a3a",
   "metadata": {},
   "source": [
    "## 9. Summary and Recommendations"
   ]
  },
  {
   "cell_type": "code",
   "execution_count": 16,
   "id": "f2257db7",
   "metadata": {},
   "outputs": [
    {
     "name": "stdout",
     "output_type": "stream",
     "text": [
      "\n",
      "📝 Summary and Recommendations\n",
      "============================================================\n",
      "\n",
      "Data Folder: download_20251027_185415\n",
      "Total Runs: 100\n",
      "Latest Run: 20251027113504\n",
      "Nodes: 40\n",
      "Traffic Edges: 120\n",
      "   Average Speed: 28.99 km/h\n",
      "Temporal Analysis: 20 data points\n",
      "\n",
      "💡 Recommendations:\n",
      "   - Some runs are missing traffic data - check collection process\n",
      "   - Some runs are missing Overpass data - may need backfill\n",
      "\n",
      "✨ Dashboard complete!\n"
     ]
    }
   ],
   "source": [
    "print(\"\\n📝 Summary and Recommendations\")\n",
    "print(\"=\" * 60)\n",
    "\n",
    "print(f\"\\nData Folder: {selected_folder.name}\")\n",
    "print(f\"Total Runs: {len(runs)}\")\n",
    "print(f\"Latest Run: {runs[0].name if runs else 'N/A'}\")\n",
    "\n",
    "if nodes:\n",
    "    print(f\"Nodes: {len(nodes)}\")\n",
    "else:\n",
    "    print(\"⚠️ No nodes data found\")\n",
    "\n",
    "if traffic_data:\n",
    "    print(f\"Traffic Edges: {len(traffic_data)}\")\n",
    "    if 'speed_kmh' in traffic_df.columns:\n",
    "        print(f\"   Average Speed: {traffic_df['speed_kmh'].mean():.2f} km/h\")\n",
    "else:\n",
    "    print(\"⚠️ No traffic data found\")\n",
    "\n",
    "if temporal_data:\n",
    "    print(f\"Temporal Analysis: {len(temporal_data)} data points\")\n",
    "else:\n",
    "    print(\"⚠️ Limited temporal data for trend analysis\")\n",
    "\n",
    "print(\"\\n💡 Recommendations:\")\n",
    "if len(runs) < 10:\n",
    "    print(\"   - Collect more data for better temporal analysis\")\n",
    "if quality_metrics.get('Runs with Traffic Data', 0) < len(runs) * 0.8:\n",
    "    print(\"   - Some runs are missing traffic data - check collection process\")\n",
    "if quality_metrics.get('Runs with Overpass Data', 0) < len(runs) * 0.8:\n",
    "    print(\"   - Some runs are missing Overpass data - may need backfill\")\n",
    "\n",
    "print(\"\\n✨ Dashboard complete!\")"
   ]
  }
 ],
 "metadata": {
  "kernelspec": {
   "display_name": "dsp",
   "language": "python",
   "name": "python3"
  },
  "language_info": {
   "codemirror_mode": {
    "name": "ipython",
    "version": 3
   },
   "file_extension": ".py",
   "mimetype": "text/x-python",
   "name": "python",
   "nbconvert_exporter": "python",
   "pygments_lexer": "ipython3",
   "version": "3.10.18"
  }
 },
 "nbformat": 4,
 "nbformat_minor": 5
}
