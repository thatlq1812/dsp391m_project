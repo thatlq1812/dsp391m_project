{
 "cells": [
  {
   "cell_type": "markdown",
   "metadata": {},
   "source": [
    "# Scripts Runner & Documentation\n",
    "\n",
    "**Maintainer:** THAT Le Quang\n",
    "**Version:** 1.0"
   ]
  },
  {
   "cell_type": "code",
   "execution_count": null,
   "metadata": {},
   "outputs": [],
   "source": [
    "import subprocess\n",
    "from pathlib import Path\n",
    "\n",
    "PROJECT_ROOT = Path.cwd().parent\n",
    "SCRIPTS_DIR = PROJECT_ROOT / 'scripts'\n",
    "\n",
    "print(f'Project: {PROJECT_ROOT}')\n",
    "print(f'Scripts: {SCRIPTS_DIR}')"
   ]
  },
  {
   "cell_type": "markdown",
   "metadata": {},
   "source": [
    "## Scripts Documentation\n",
    "\n",
    "This notebook provides documentation and execution capabilities for all project scripts.\n",
    "\n",
    "**Categories:**\n",
    "- 🚀 Deployment - Setup and deploy to GCP\n",
    "- 💾 Data Management - Download, backup, cleanup\n",
    "- 🔄 Collection - Data collection tasks\n",
    "- 📊 Monitoring - Health checks and dashboards\n",
    "- 🔧 Utilities - Maintenance and fixes"
   ]
  },
  {
   "cell_type": "code",
   "execution_count": null,
   "metadata": {
    "vscode": {
     "languageId": "code"
    }
   },
   "outputs": [],
   "source": [
    "# Helper function to run commands\n",
    "def run_cmd(cmd):\n",
    "    \"\"\"Run shell command and show output\"\"\"\n",
    "    print(f\"Running: {cmd}\\n\")\n",
    "    result = subprocess.run(cmd, shell=True, cwd=PROJECT_ROOT, \n",
    "                          capture_output=True, text=True, timeout=300)\n",
    "    print(result.stdout)\n",
    "    if result.stderr:\n",
    "        print(\"Errors:\", result.stderr)\n",
    "    return result\n",
    "\n",
    "# List all script categories\n",
    "for cat in ['deployment', 'data_management', 'collection', 'monitoring', 'utilities']:\n",
    "    cat_dir = SCRIPTS_DIR / cat\n",
    "    if cat_dir.exists():\n",
    "        files = list(cat_dir.glob('*.*'))\n",
    "        print(f\"\\n{cat}/ ({len(files)} files)\")\n",
    "        for f in files[:5]:\n",
    "            print(f\"  - {f.name}\")"
   ]
  },
  {
   "cell_type": "markdown",
   "metadata": {},
   "source": [
    "## Common Tasks\n",
    "\n",
    "### Download Latest Data\n",
    "```bash\n",
    "bash scripts/data_management/download_data_compressed.sh\n",
    "```\n",
    "\n",
    "### Run Health Check\n",
    "```bash\n",
    "bash scripts/monitoring/health_check.sh\n",
    "```\n",
    "\n",
    "### Single Collection\n",
    "```bash\n",
    "conda run -n dsp python scripts/collection/collect_and_render.py --once\n",
    "```\n",
    "\n",
    "### Cleanup Old Runs\n",
    "```bash\n",
    "conda run -n dsp python scripts/data_management/cleanup_runs.py --days 14\n",
    "```\n",
    "\n",
    "For detailed documentation, see **scripts/README.md** and **doc/README.md**"
   ]
  },
  {
   "cell_type": "code",
   "execution_count": null,
   "metadata": {
    "vscode": {
     "languageId": "code"
    }
   },
   "outputs": [],
   "source": [
    "# Example: Run health check\n",
    "# Uncomment to execute:\n",
    "# run_cmd('bash scripts/monitoring/health_check.sh')\n",
    "\n",
    "print(\"Uncomment the line above to run health check\")"
   ]
  }
 ],
 "metadata": {
  "kernelspec": {
   "display_name": "Python 3",
   "language": "python",
   "name": "python3"
  }
 },
 "nbformat": 4,
 "nbformat_minor": 4
}
